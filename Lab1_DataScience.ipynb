{
 "cells": [
  {
   "cell_type": "markdown",
   "metadata": {},
   "source": [
    "# Lab 1: Data Science in Python"
   ]
  },
  {
   "cell_type": "markdown",
   "metadata": {},
   "source": [
    "This lab will introduce you to some basic tools and libraries commonly used for Data Science in python.\n",
    "<ul>\n",
    "<li>```numpy``` is a library that efficiently stores matrices and vectors, called arrays. Some really clever people optimised this very well, so that it can do things such as dot products and data compression very efficiently.\n",
    "<li>```pandas``` offers some more R-like dataframes. A dataframe is more flexible than an array (for example, it can have strings and numbers in the same column).\n",
    "<li>```matplotlib``` is a plotting library.\n",
    "<li>```seaborn``` is built on top of matplotlib, and offers a few additional perks in the same style as ```matplotlib```.\n",
    "</ul>\n",
    "\n",
    "## 1. Jupyter\n",
    "Jupyter notebooks are interactive python notebooks, in which you can design your code and run each cell one by one. There are code cells and markdown cells. You can select the type of cell above: Cell > Cell Type. Use markdown cells to write notes for your future self or your collaborators/readers. Code cells run your code when you hit ```Ctrl + Enter```. In <b>command mode</b>, you can navigate through cells using the up/down arrows. With ```Enter```/double click, you get into <b>execute mode</b>, where you can modify and execute cells.\n",
    "<ul>\n",
    "<li>Create a new cell in command mode by hitting ```a``` (new cell above) or ```b``` (new cell below).\n",
    "\n",
    "<li>Delete a cell in command mode by hitting ```d d```.\n",
    "</ul>\n",
    "A very neat feature of jupyter notebooks is that the output of the last command is automatically printed below a code cell, even without the print() function.\n",
    "\n",
    "<ol>\n",
    "<li>Try creating a new cell below (by default, this creates a new code cell), and put ```34 * 567``` in there. Execute the cell to see what happens. \n",
    "\n",
    "<li>Then, put ```34 / 567``` in there, below your previous line of code. What gets displayed? Two numbers, or just one? Which one?\n",
    "</ol>"
   ]
  },
  {
   "cell_type": "code",
   "execution_count": 6,
   "metadata": {
    "collapsed": false
   },
   "outputs": [
    {
     "name": "stdout",
     "output_type": "stream",
     "text": [
      "13\n",
      "6\n"
     ]
    }
   ],
   "source": [
    "34*567\n",
    "34/567\n",
    "\n",
    "4+5\n",
    "\n",
    "2+2\n",
    "\n",
    "print(6+7)\n",
    "print(2+4)"
   ]
  },
  {
   "cell_type": "code",
   "execution_count": 13,
   "metadata": {
    "collapsed": false
   },
   "outputs": [
    {
     "data": {
      "text/plain": [
       "0.059964726631393295"
      ]
     },
     "execution_count": 13,
     "metadata": {},
     "output_type": "execute_result"
    }
   ],
   "source": [
    "34*567\n",
    "34/567"
   ]
  },
  {
   "cell_type": "markdown",
   "metadata": {},
   "source": [
    "Now, let's get started. First, import these libraries. This is the standard way in which many programs import them:"
   ]
  },
  {
   "cell_type": "code",
   "execution_count": 7,
   "metadata": {
    "collapsed": false,
    "scrolled": true
   },
   "outputs": [],
   "source": [
    "import numpy as np\n",
    "import pandas as pd\n",
    "import matplotlib.pyplot as plt\n",
    "import seaborn as sns\n",
    "import os"
   ]
  },
  {
   "cell_type": "markdown",
   "metadata": {
    "collapsed": true
   },
   "source": [
    "## 2. Numpy\n",
    "\n",
    "Numpy is a library for storing and fast computing with matrices and vectors. The basic data type in numpy is a nupy array (```np.array()```). An array can be unidimensional (vector), two dimensional (matrix) or higher dimensional (\"tensor\"; like a matrix of matrices, etc. - but don't worry about it too much for now).\n",
    "\n",
    "A one dimensional array is a bit like a list in python, except that it has a fixed size that has to be defined when the array is created. It also has a fixed datatype, e.g. ```np.int64``` (integers) or ```np.float```. All elements of the array must be of the same datatype, and tying to insert an item of a different data type will create errors. Here are a few ways of creating new arrays. Try to execute the cells below and figure out how these methods work.\n",
    "\n",
    "You can also find more documentation on numpy <a href=\"http://www.numpy.org/\">here</a>.\n",
    "\n"
   ]
  },
  {
   "cell_type": "code",
   "execution_count": 10,
   "metadata": {
    "collapsed": false
   },
   "outputs": [
    {
     "name": "stdout",
     "output_type": "stream",
     "text": [
      "[[1 2 3]\n",
      " [4 5 6]]\n",
      "[1 2]\n"
     ]
    }
   ],
   "source": [
    "np.array([1,2,3,9,8,7])\n",
    "\n",
    "y = np.array([(1,2,3), (4,5,6)])\n",
    "\n",
    "x = np.array([27,4,6])\n",
    "\n",
    "x\n",
    "y\n",
    "\n",
    "np.int64([2.6,4]) #writes 2 instead of 2.6, because you have defined the datatype to be integers\n",
    "\n",
    "print(y)\n",
    "\n",
    "print(np.array(([1,2])))\n"
   ]
  },
  {
   "cell_type": "code",
   "execution_count": 11,
   "metadata": {
    "collapsed": false
   },
   "outputs": [
    {
     "data": {
      "text/plain": [
       "array([0, 1, 2, 3, 4, 5])"
      ]
     },
     "execution_count": 11,
     "metadata": {},
     "output_type": "execute_result"
    }
   ],
   "source": [
    "np.arange(6) #creates a range from 0 to 5\n",
    "\n"
   ]
  },
  {
   "cell_type": "markdown",
   "metadata": {},
   "source": [
    "With ```np.array()```, you can turn a list or iterable into a numpy array. You need to specify the items by hand. ```np.arange``` automatically produces values within a specified range. Try creating an array that has all the odd number between 10 and 20. Check out <a href=\"https://docs.scipy.org/doc/numpy/reference/generated/numpy.arange.html\">the documentation</a> to help you. \n",
    "\n",
    "\n",
    "numpy.arange([start, ]stop, [step, ]dtype=None)¶\n",
    "\n",
    "step : number, optional\n",
    "Spacing between values. For any output out, this is the distance between two adjacent values, out[i+1] - out[i]. The default step size is 1. If step is specified as a position argument, start must also be given."
   ]
  },
  {
   "cell_type": "code",
   "execution_count": 15,
   "metadata": {
    "collapsed": false
   },
   "outputs": [
    {
     "data": {
      "text/plain": [
       "array([2, 3, 4])"
      ]
     },
     "execution_count": 15,
     "metadata": {},
     "output_type": "execute_result"
    }
   ],
   "source": [
    "#Code here\n",
    "np.arange(5,8) #create a range from 5 to 7\n",
    "\n",
    "np.arange(3,7,1) #create a range from 3 to 6, with one space between each value\n",
    "\n",
    "np.arange(3,7,2) #will print the numbers 3 and 5\n",
    "\n",
    "np.arange(11,20,2)\n",
    "\n",
    "np.arange(2,5)"
   ]
  },
  {
   "cell_type": "markdown",
   "metadata": {},
   "source": [
    "Now run the cells below."
   ]
  },
  {
   "cell_type": "code",
   "execution_count": 25,
   "metadata": {
    "collapsed": false
   },
   "outputs": [
    {
     "data": {
      "text/plain": [
       "array([0., 0., 0., 0., 0., 0., 0., 0., 0., 0., 0., 0., 0., 0., 0., 0., 0.,\n",
       "       0., 0., 0., 0., 0., 0., 0., 0., 0., 0., 0., 0., 0., 0., 0., 0., 0.,\n",
       "       0., 0., 0., 0., 0., 0., 0., 0., 0., 0., 0., 0., 0., 0., 0., 0.])"
      ]
     },
     "execution_count": 25,
     "metadata": {},
     "output_type": "execute_result"
    }
   ],
   "source": [
    "np.zeros((5,)) #create list with 5 zeros\n",
    "\n",
    "np.ones((4)) #create list with 3 ones \n",
    "\n",
    "np.zeros((50))\n",
    "\n"
   ]
  },
  {
   "cell_type": "code",
   "execution_count": 23,
   "metadata": {
    "collapsed": false
   },
   "outputs": [
    {
     "data": {
      "text/plain": [
       "array([0., 0., 0., 0., 0., 0.])"
      ]
     },
     "execution_count": 23,
     "metadata": {},
     "output_type": "execute_result"
    }
   ],
   "source": [
    "np.empty((6,)) #creates an empty array and put in random numbers (or the ones used just above) \n"
   ]
  },
  {
   "cell_type": "markdown",
   "metadata": {},
   "source": [
    "What's the difference between ```np.zeros``` and ```np.empty```? (You might not see any difference at first. If not, try executing the last cell again, until you see any difference.) What kinds of numbers are inside the \"empty\" array? Why is that? Check out <a href=\"https://docs.scipy.org/doc/numpy/reference/generated/numpy.empty.html\">the documentation</a> for help.\n",
    "\n",
    "Here's yet another function that creates a new array - this can be quite handy for certain types of machine learning:"
   ]
  },
  {
   "cell_type": "code",
   "execution_count": 84,
   "metadata": {
    "collapsed": false
   },
   "outputs": [
    {
     "data": {
      "text/plain": [
       "array([[45, 45, 45, 45, 45],\n",
       "       [45, 45, 45, 45, 45],\n",
       "       [45, 45, 45, 45, 45],\n",
       "       [45, 45, 45, 45, 45],\n",
       "       [45, 45, 45, 45, 45]])"
      ]
     },
     "execution_count": 84,
     "metadata": {},
     "output_type": "execute_result"
    }
   ],
   "source": [
    "np.full((5,),fill_value=42) #make an array of 5 and put the value 42 in \n",
    "\n",
    "np.full((5,5), fill_value = 45)\n"
   ]
  },
  {
   "cell_type": "code",
   "execution_count": 82,
   "metadata": {
    "collapsed": false
   },
   "outputs": [
    {
     "data": {
      "text/plain": [
       "array([0.85405341, 0.2437696 , 0.32993341, 0.25086359, 0.71907223])"
      ]
     },
     "execution_count": 82,
     "metadata": {},
     "output_type": "execute_result"
    }
   ],
   "source": [
    "np.random.rand(5) #create array of random floats between 0 and 1"
   ]
  },
  {
   "cell_type": "markdown",
   "metadata": {},
   "source": [
    "(Run the above cell multiple times, to see which numbers it produces and that they are indeed random floats between 0 and 1.)\n",
    "\n",
    "```np.zeros()```, ```np.empty()```, ```np.full()``` and ```np.random.rand()``` take in a \"shape\" as argument. Valid shapes are \n",
    "\n",
    "(x,)  -- a vector with length x\n",
    "(x,y) -- a x by y matrix\n",
    "(x,y,z) -- a x by y by z tensor\n",
    "etc.\n",
    "\n",
    "You can find out an array's shape by using its ```.shape``` attribute:"
   ]
  },
  {
   "cell_type": "code",
   "execution_count": 26,
   "metadata": {
    "collapsed": false,
    "scrolled": true
   },
   "outputs": [
    {
     "data": {
      "text/plain": [
       "array([[0.42056958, 0.1589274 ],\n",
       "       [0.96572552, 0.79424827],\n",
       "       [0.01052778, 0.43611112],\n",
       "       [0.6379177 , 0.65997331],\n",
       "       [0.41888409, 0.82978683],\n",
       "       [0.91950566, 0.17026378]])"
      ]
     },
     "execution_count": 26,
     "metadata": {},
     "output_type": "execute_result"
    }
   ],
   "source": [
    "a = np.random.rand(6,2)\n",
    "a\n",
    "\n"
   ]
  },
  {
   "cell_type": "code",
   "execution_count": 33,
   "metadata": {
    "collapsed": false
   },
   "outputs": [
    {
     "data": {
      "text/plain": [
       "(6, 2)"
      ]
     },
     "execution_count": 33,
     "metadata": {},
     "output_type": "execute_result"
    }
   ],
   "source": [
    "a.shape\n",
    "\n"
   ]
  },
  {
   "cell_type": "markdown",
   "metadata": {},
   "source": [
    "Try creating a new array b with the same shape as a, filled with any value you like."
   ]
  },
  {
   "cell_type": "code",
   "execution_count": 32,
   "metadata": {
    "collapsed": false
   },
   "outputs": [
    {
     "name": "stdout",
     "output_type": "stream",
     "text": [
      "[[6 6]\n",
      " [6 6]\n",
      " [6 6]\n",
      " [6 6]\n",
      " [6 6]\n",
      " [6 6]]\n"
     ]
    },
    {
     "data": {
      "text/plain": [
       "(6, 2)"
      ]
     },
     "execution_count": 32,
     "metadata": {},
     "output_type": "execute_result"
    }
   ],
   "source": [
    "#Code here.\n",
    "\n",
    "b = np.full((6,2),fill_value = 6)\n",
    "\n",
    "b\n",
    "\n",
    "print(b)\n",
    "\n",
    "b.shape\n",
    "\n"
   ]
  },
  {
   "cell_type": "markdown",
   "metadata": {},
   "source": [
    "Now we would like to merge the two arrays, a and b, into a single matrix. Assume the columns of a and b represent the same variable, and each of them contains 6 participants. So we'd like to stick b to the bottom of a. You can do this with ```np.concatenate```. See the <a href=\"https://docs.scipy.org/doc/numpy/reference/generated/numpy.concatenate.html\">documentation</a> to find out how to do it. Store the concatenated array in a new variable, c.\n",
    "\n",
    "Play with the ```axis``` parameter to see what different shapes you get."
   ]
  },
  {
   "cell_type": "code",
   "execution_count": 34,
   "metadata": {
    "collapsed": false
   },
   "outputs": [
    {
     "data": {
      "text/plain": [
       "array([[0.42056958, 0.1589274 ],\n",
       "       [0.96572552, 0.79424827],\n",
       "       [0.01052778, 0.43611112],\n",
       "       [0.6379177 , 0.65997331],\n",
       "       [0.41888409, 0.82978683],\n",
       "       [0.91950566, 0.17026378],\n",
       "       [6.        , 6.        ],\n",
       "       [6.        , 6.        ],\n",
       "       [6.        , 6.        ],\n",
       "       [6.        , 6.        ],\n",
       "       [6.        , 6.        ],\n",
       "       [6.        , 6.        ]])"
      ]
     },
     "execution_count": 34,
     "metadata": {},
     "output_type": "execute_result"
    }
   ],
   "source": [
    "#Code here.\n",
    "\n",
    "c = np.concatenate((a, b), axis=0)\n",
    "c\n",
    "\n"
   ]
  },
  {
   "cell_type": "markdown",
   "metadata": {},
   "source": [
    "Make another array, d, with shape (3,4). Try concatenating it with array c. Why isn't this working?"
   ]
  },
  {
   "cell_type": "code",
   "execution_count": 35,
   "metadata": {
    "collapsed": false,
    "scrolled": true
   },
   "outputs": [
    {
     "name": "stdout",
     "output_type": "stream",
     "text": [
      "[[1 2 3 0]\n",
      " [4 5 6 0]\n",
      " [7 8 9 0]]\n",
      "[[1 2]\n",
      " [3 0]\n",
      " [4 5]\n",
      " [6 0]\n",
      " [7 8]\n",
      " [9 0]]\n"
     ]
    },
    {
     "data": {
      "text/plain": [
       "array([[0.42056958, 0.1589274 ],\n",
       "       [0.96572552, 0.79424827],\n",
       "       [0.01052778, 0.43611112],\n",
       "       [0.6379177 , 0.65997331],\n",
       "       [0.41888409, 0.82978683],\n",
       "       [0.91950566, 0.17026378],\n",
       "       [6.        , 6.        ],\n",
       "       [6.        , 6.        ],\n",
       "       [6.        , 6.        ],\n",
       "       [6.        , 6.        ],\n",
       "       [6.        , 6.        ],\n",
       "       [6.        , 6.        ],\n",
       "       [1.        , 2.        ],\n",
       "       [3.        , 0.        ],\n",
       "       [4.        , 5.        ],\n",
       "       [6.        , 0.        ],\n",
       "       [7.        , 8.        ],\n",
       "       [9.        , 0.        ]])"
      ]
     },
     "execution_count": 35,
     "metadata": {},
     "output_type": "execute_result"
    }
   ],
   "source": [
    "# Code here.\n",
    "d = np.array([(1,2,3,0), (4,5,6,0), (7,8,9,0)])\n",
    "d\n",
    "\n",
    "d.shape\n",
    "\n",
    "print(d)\n",
    "\n",
    "#e = np.concatenate((c,d), axis = 0) #does not work because array c has two collumns and array d has 4\n",
    "\n",
    "print(d.reshape(6,2))\n",
    "\n",
    "d = d.reshape(6,2) #important that you assign it to the variable d\n",
    "\n",
    "e = np.concatenate((c,d), axis = 0)\n",
    "\n",
    "e"
   ]
  },
  {
   "cell_type": "markdown",
   "metadata": {},
   "source": [
    "d doesn't match the dimensions of c. Let's say, we recorded our data for d in a slightly different way, using wide format. Now we'd like to change that, to make sure we can stich all the arrays together as desired. The ```.reshape``` attribute of an array can do this for us. Use ```.reshape``` on d (```d.reshape()```) in the above cell, to make it the same shape as a and b. See  the <a href=\"https://docs.scipy.org/doc/numpy/reference/generated/numpy.ndarray.reshape.html\">documentation</a> for details. Afterwards, concatenate c and d and save them back in the variable c.\n",
    "\n",
    "Finally, we want to replace some values in our array c. You can index into the array, and replace values, like this:"
   ]
  },
  {
   "cell_type": "code",
   "execution_count": 36,
   "metadata": {
    "collapsed": false,
    "scrolled": true
   },
   "outputs": [
    {
     "name": "stdout",
     "output_type": "stream",
     "text": [
      "[[0.42056958 0.1589274 ]\n",
      " [0.96572552 0.79424827]\n",
      " [1.         0.43611112]\n",
      " [0.6379177  0.65997331]\n",
      " [0.41888409 0.82978683]\n",
      " [0.91950566 0.17026378]\n",
      " [6.         6.        ]\n",
      " [6.         6.        ]\n",
      " [6.         6.        ]\n",
      " [6.         6.        ]\n",
      " [6.         6.        ]\n",
      " [6.         6.        ]]\n",
      "[[1.         2.        ]\n",
      " [1.         0.79424827]\n",
      " [1.         0.43611112]\n",
      " [0.6379177  0.65997331]\n",
      " [0.41888409 0.82978683]\n",
      " [0.91950566 0.17026378]\n",
      " [6.         6.        ]\n",
      " [6.         6.        ]\n",
      " [6.         6.        ]\n",
      " [6.         6.        ]\n",
      " [6.         6.        ]\n",
      " [6.         6.        ]]\n"
     ]
    }
   ],
   "source": [
    "c[2,0] = 1 #index into the array: [row,column]\n",
    "\n",
    "\n",
    "print(c)\n",
    "\n",
    "c[0,0] = 1 #row,columns\n",
    "\n",
    "c[1,0] = 1\n",
    "\n",
    "c[0,1] = 2\n",
    "\n",
    "print(c)"
   ]
  },
  {
   "cell_type": "markdown",
   "metadata": {},
   "source": [
    "Set the 10th item in the first (0th) column to the day of the month in which you were born, and the 3rd item in the second (1st) column to the number of the month."
   ]
  },
  {
   "cell_type": "code",
   "execution_count": 177,
   "metadata": {
    "collapsed": false
   },
   "outputs": [
    {
     "data": {
      "text/plain": [
       "array([[ 1.        ,  2.        ],\n",
       "       [ 1.        ,  0.93267738],\n",
       "       [ 1.        ,  9.        ],\n",
       "       [ 0.37284413,  0.10296073],\n",
       "       [ 0.52877588,  0.37891678],\n",
       "       [ 0.64926365,  0.39625677],\n",
       "       [ 6.        ,  6.        ],\n",
       "       [ 6.        ,  6.        ],\n",
       "       [ 6.        ,  6.        ],\n",
       "       [26.        ,  6.        ],\n",
       "       [ 6.        ,  6.        ],\n",
       "       [ 6.        ,  6.        ]])"
      ]
     },
     "execution_count": 177,
     "metadata": {},
     "output_type": "execute_result"
    }
   ],
   "source": [
    "# Code here.\n",
    "c[9,0] = 26\n",
    "\n",
    "c[2,1] = 9\n",
    "\n",
    "c"
   ]
  },
  {
   "cell_type": "markdown",
   "metadata": {},
   "source": [
    "Now we'd like to do some math. Let's find out the mean and standard deviation of our two variables, using ```np.mean``` and ```np.std```. Use the argument ```axis=0``` to specify you want one mean/SD per column. ```axis=1``` will give you one mean/SD per row (maybe you want to get each participant's mean?). Leaving the axis argument unspecified will give you a single mean over the entire array."
   ]
  },
  {
   "cell_type": "code",
   "execution_count": 37,
   "metadata": {
    "collapsed": false
   },
   "outputs": [
    {
     "data": {
      "text/plain": [
       "array([2.5901482 , 2.62422745])"
      ]
     },
     "execution_count": 37,
     "metadata": {},
     "output_type": "execute_result"
    }
   ],
   "source": [
    "#Code here.\n",
    "np.mean(c, axis = 0) #shows mean pr column\n",
    "\n",
    "np.mean(c, axis = 1) #shows mean pr row\n",
    "\n",
    "np.mean(c) #shows overall mean of array\n",
    "\n",
    "np.std(c,axis = 0) #calculate standard deviation pr column\n",
    "\n"
   ]
  },
  {
   "cell_type": "markdown",
   "metadata": {},
   "source": [
    "Numpy has many more useful functions and applications, and if you want to get deeper into Machine Learning in python, I encourage you to dive further into <a href=\"http://www.numpy.org/\">the numpy documentation</a>. For example, Neural Networks - the current state of the art in many areas of Machine Learning today - are hugely based on matrix multiplications. Even if you are a total champ at Linear Algebra, and could implement them all by yourself, many PhDs have gone into making numpy super fast and efficient, which is why you should always choose numpy instead. Btw, even Deep Learning Frameworks such as <a href=\"https://pytorch.org/tutorials/index.html\">pytorch</a> use similar data types and functions; so understanding them is a very transferrable skill!\n",
    "\n",
    "For now, we won't need a too in-depth understanding of numpy arrays and functions. Just know that they exist, and that some of the errors you might get are due to an array being of the wrong shape or datatype. Importantly, numpy functions can be applied to pandas DataFrame/Series objects, which we will be using in this course to store and manipulate data."
   ]
  },
  {
   "cell_type": "markdown",
   "metadata": {},
   "source": [
    "## 3. Pandas\n",
    "\n",
    "The two main data structures in pandas are ```pd.Series``` and ```pd.DataFrame```. Basically, each *column* in a pandas <a href=\"https://pandas.pydata.org/pandas-docs/stable/generated/pandas.DataFrame.html\">DataFrame</a> is a <a href=\"https://pandas.pydata.org/pandas-docs/stable/generated/pandas.Series.html\">Series</a>, which can be manipulated like a numpy array. Have a quick browse through the linked documentation to find out more about pandas Series and DataFrames. A main difference between numpy arrays and pandas DataFrames (and why I often use the latter), is that DataFrames allow for mixed DataTypes. For example, you might have a categorical variable represented as a string, and some numerical ones. Now, eventually you'll have to make all variables into numbers (most classifiers don't have that conversion inbuilt, like the models in R), and you might even want to transform your dataframe back into a numpy array *at some point*. But for manipulating and *seeing* the data, pandas is great.\n",
    "\n",
    "Let's start by making a Series:"
   ]
  },
  {
   "cell_type": "code",
   "execution_count": 43,
   "metadata": {
    "collapsed": false
   },
   "outputs": [
    {
     "name": "stdout",
     "output_type": "stream",
     "text": [
      "0    0\n",
      "1    1\n",
      "2    2\n",
      "dtype: int64\n"
     ]
    }
   ],
   "source": [
    "# make a pd.Series() object from a numpy array\n",
    "column1 = pd.Series(np.arange(3))\n",
    "column1\n",
    "print(column1) \n",
    "\n",
    "\n",
    "#d = {'item':[1,2],'subject' : [3,4] } #just another way \n",
    "\n",
    "#df = pd.DataFrame(data=d)\n",
    "#df\n"
   ]
  },
  {
   "cell_type": "code",
   "execution_count": 45,
   "metadata": {
    "collapsed": false
   },
   "outputs": [
    {
     "data": {
      "text/plain": [
       "0      male\n",
       "1    female\n",
       "2     other\n",
       "dtype: object"
      ]
     },
     "execution_count": 45,
     "metadata": {},
     "output_type": "execute_result"
    }
   ],
   "source": [
    "#let's make another one, using a list\n",
    "column2 = pd.Series([\"male\",\"female\",\"other\"])\n",
    "column2"
   ]
  },
  {
   "cell_type": "markdown",
   "metadata": {},
   "source": [
    "As you can see, the Series has not only a column with the values you gave it, but also an index, specifying the observation number/ID. You may change the index if you like, by passing it as an explicit argument:"
   ]
  },
  {
   "cell_type": "code",
   "execution_count": 46,
   "metadata": {
    "collapsed": false
   },
   "outputs": [
    {
     "data": {
      "text/plain": [
       "A    0\n",
       "B    1\n",
       "C    2\n",
       "dtype: int64"
      ]
     },
     "execution_count": 46,
     "metadata": {},
     "output_type": "execute_result"
    }
   ],
   "source": [
    "# set the index to something we want\n",
    "column1 = pd.Series(np.arange(3), index=['A','B','C'])\n",
    "column1"
   ]
  },
  {
   "cell_type": "code",
   "execution_count": 47,
   "metadata": {
    "collapsed": false
   },
   "outputs": [
    {
     "data": {
      "text/plain": [
       "0    0\n",
       "1    1\n",
       "2    2\n",
       "Name: 0, dtype: int64"
      ]
     },
     "execution_count": 47,
     "metadata": {},
     "output_type": "execute_result"
    }
   ],
   "source": [
    "#we want to change that back, so the two columns share the same index:\n",
    "column1 = column1.reset_index()[0]\n",
    "column1"
   ]
  },
  {
   "cell_type": "markdown",
   "metadata": {},
   "source": [
    "```reset_index()``` resets the index to the default numbering and makes the current index a new column -- it automatically creates a dataframe. To select only the original column1, I specified [0], which was the default name given to our column1.\n",
    "\n",
    "Now we can concatenate the two columns into a dataframe, like we did with numpy arrays:"
   ]
  },
  {
   "cell_type": "code",
   "execution_count": 48,
   "metadata": {
    "collapsed": false,
    "scrolled": true
   },
   "outputs": [
    {
     "data": {
      "text/html": [
       "<div>\n",
       "<style scoped>\n",
       "    .dataframe tbody tr th:only-of-type {\n",
       "        vertical-align: middle;\n",
       "    }\n",
       "\n",
       "    .dataframe tbody tr th {\n",
       "        vertical-align: top;\n",
       "    }\n",
       "\n",
       "    .dataframe thead th {\n",
       "        text-align: right;\n",
       "    }\n",
       "</style>\n",
       "<table border=\"1\" class=\"dataframe\">\n",
       "  <thead>\n",
       "    <tr style=\"text-align: right;\">\n",
       "      <th></th>\n",
       "      <th>0</th>\n",
       "      <th>0</th>\n",
       "    </tr>\n",
       "  </thead>\n",
       "  <tbody>\n",
       "    <tr>\n",
       "      <th>0</th>\n",
       "      <td>0</td>\n",
       "      <td>male</td>\n",
       "    </tr>\n",
       "    <tr>\n",
       "      <th>1</th>\n",
       "      <td>1</td>\n",
       "      <td>female</td>\n",
       "    </tr>\n",
       "    <tr>\n",
       "      <th>2</th>\n",
       "      <td>2</td>\n",
       "      <td>other</td>\n",
       "    </tr>\n",
       "  </tbody>\n",
       "</table>\n",
       "</div>"
      ],
      "text/plain": [
       "   0       0\n",
       "0  0    male\n",
       "1  1  female\n",
       "2  2   other"
      ]
     },
     "execution_count": 48,
     "metadata": {},
     "output_type": "execute_result"
    }
   ],
   "source": [
    "df= pd.concat([column1,column2],axis=1)\n",
    "df"
   ]
  },
  {
   "cell_type": "markdown",
   "metadata": {},
   "source": [
    "Ooops - now we screwed up the column names. We can use the ```.columns``` attribute of the df tho change that:"
   ]
  },
  {
   "cell_type": "code",
   "execution_count": 49,
   "metadata": {
    "collapsed": false
   },
   "outputs": [
    {
     "data": {
      "text/html": [
       "<div>\n",
       "<style scoped>\n",
       "    .dataframe tbody tr th:only-of-type {\n",
       "        vertical-align: middle;\n",
       "    }\n",
       "\n",
       "    .dataframe tbody tr th {\n",
       "        vertical-align: top;\n",
       "    }\n",
       "\n",
       "    .dataframe thead th {\n",
       "        text-align: right;\n",
       "    }\n",
       "</style>\n",
       "<table border=\"1\" class=\"dataframe\">\n",
       "  <thead>\n",
       "    <tr style=\"text-align: right;\">\n",
       "      <th></th>\n",
       "      <th>column1</th>\n",
       "      <th>column2</th>\n",
       "    </tr>\n",
       "  </thead>\n",
       "  <tbody>\n",
       "    <tr>\n",
       "      <th>0</th>\n",
       "      <td>0</td>\n",
       "      <td>male</td>\n",
       "    </tr>\n",
       "    <tr>\n",
       "      <th>1</th>\n",
       "      <td>1</td>\n",
       "      <td>female</td>\n",
       "    </tr>\n",
       "    <tr>\n",
       "      <th>2</th>\n",
       "      <td>2</td>\n",
       "      <td>other</td>\n",
       "    </tr>\n",
       "  </tbody>\n",
       "</table>\n",
       "</div>"
      ],
      "text/plain": [
       "   column1 column2\n",
       "0        0    male\n",
       "1        1  female\n",
       "2        2   other"
      ]
     },
     "execution_count": 49,
     "metadata": {},
     "output_type": "execute_result"
    }
   ],
   "source": [
    "#set the column names of a DataFrame:\n",
    "df.columns = [\"column1\",\"column2\"]\n",
    "df"
   ]
  },
  {
   "cell_type": "code",
   "execution_count": 50,
   "metadata": {
    "collapsed": false
   },
   "outputs": [
    {
     "data": {
      "text/plain": [
       "2"
      ]
     },
     "execution_count": 50,
     "metadata": {},
     "output_type": "execute_result"
    }
   ],
   "source": [
    "#index into the dataframe like this:\n",
    "df[\"column2\"][0]\n",
    "\n",
    "df[\"column1\"][2]"
   ]
  },
  {
   "cell_type": "code",
   "execution_count": 54,
   "metadata": {
    "collapsed": false,
    "scrolled": true
   },
   "outputs": [
    {
     "data": {
      "text/html": [
       "<div>\n",
       "<style scoped>\n",
       "    .dataframe tbody tr th:only-of-type {\n",
       "        vertical-align: middle;\n",
       "    }\n",
       "\n",
       "    .dataframe tbody tr th {\n",
       "        vertical-align: top;\n",
       "    }\n",
       "\n",
       "    .dataframe thead th {\n",
       "        text-align: right;\n",
       "    }\n",
       "</style>\n",
       "<table border=\"1\" class=\"dataframe\">\n",
       "  <thead>\n",
       "    <tr style=\"text-align: right;\">\n",
       "      <th></th>\n",
       "      <th>column1</th>\n",
       "      <th>column2</th>\n",
       "    </tr>\n",
       "  </thead>\n",
       "  <tbody>\n",
       "    <tr>\n",
       "      <th>0</th>\n",
       "      <td>0</td>\n",
       "      <td>male</td>\n",
       "    </tr>\n",
       "    <tr>\n",
       "      <th>1</th>\n",
       "      <td>1</td>\n",
       "      <td>female</td>\n",
       "    </tr>\n",
       "  </tbody>\n",
       "</table>\n",
       "</div>"
      ],
      "text/plain": [
       "   column1 column2\n",
       "0        0    male\n",
       "1        1  female"
      ]
     },
     "execution_count": 54,
     "metadata": {},
     "output_type": "execute_result"
    }
   ],
   "source": [
    "#you can use boolean logic to pick out specific elements:\n",
    "df[df[\"column1\"]>=1]\n",
    "\n",
    "df[df[\"column1\"]<=1]\n",
    "\n"
   ]
  },
  {
   "cell_type": "markdown",
   "metadata": {},
   "source": [
    "You can also modify your dataframe. However, you cannot use regular indexing for this, as regular indexing only shows you a \"slice\" of the dataframe, and does not let you modify it. Use ```.loc``` for name-based indexing (using the names of the rows and columns), or ```.iloc``` for index-based indexing (using only numbers)."
   ]
  },
  {
   "cell_type": "code",
   "execution_count": 55,
   "metadata": {
    "collapsed": false
   },
   "outputs": [
    {
     "data": {
      "text/html": [
       "<div>\n",
       "<style scoped>\n",
       "    .dataframe tbody tr th:only-of-type {\n",
       "        vertical-align: middle;\n",
       "    }\n",
       "\n",
       "    .dataframe tbody tr th {\n",
       "        vertical-align: top;\n",
       "    }\n",
       "\n",
       "    .dataframe thead th {\n",
       "        text-align: right;\n",
       "    }\n",
       "</style>\n",
       "<table border=\"1\" class=\"dataframe\">\n",
       "  <thead>\n",
       "    <tr style=\"text-align: right;\">\n",
       "      <th></th>\n",
       "      <th>column1</th>\n",
       "      <th>column2</th>\n",
       "    </tr>\n",
       "  </thead>\n",
       "  <tbody>\n",
       "    <tr>\n",
       "      <th>0</th>\n",
       "      <td>0</td>\n",
       "      <td>female</td>\n",
       "    </tr>\n",
       "    <tr>\n",
       "      <th>1</th>\n",
       "      <td>1</td>\n",
       "      <td>female</td>\n",
       "    </tr>\n",
       "    <tr>\n",
       "      <th>2</th>\n",
       "      <td>2</td>\n",
       "      <td>other</td>\n",
       "    </tr>\n",
       "  </tbody>\n",
       "</table>\n",
       "</div>"
      ],
      "text/plain": [
       "   column1 column2\n",
       "0        0  female\n",
       "1        1  female\n",
       "2        2   other"
      ]
     },
     "execution_count": 55,
     "metadata": {},
     "output_type": "execute_result"
    }
   ],
   "source": [
    "df.loc[0,\"column2\"] = \"female\"\n",
    "df\n",
    "\n"
   ]
  },
  {
   "cell_type": "code",
   "execution_count": 56,
   "metadata": {
    "collapsed": false
   },
   "outputs": [
    {
     "data": {
      "text/html": [
       "<div>\n",
       "<style scoped>\n",
       "    .dataframe tbody tr th:only-of-type {\n",
       "        vertical-align: middle;\n",
       "    }\n",
       "\n",
       "    .dataframe tbody tr th {\n",
       "        vertical-align: top;\n",
       "    }\n",
       "\n",
       "    .dataframe thead th {\n",
       "        text-align: right;\n",
       "    }\n",
       "</style>\n",
       "<table border=\"1\" class=\"dataframe\">\n",
       "  <thead>\n",
       "    <tr style=\"text-align: right;\">\n",
       "      <th></th>\n",
       "      <th>column1</th>\n",
       "      <th>column2</th>\n",
       "    </tr>\n",
       "  </thead>\n",
       "  <tbody>\n",
       "    <tr>\n",
       "      <th>0</th>\n",
       "      <td>0</td>\n",
       "      <td>male</td>\n",
       "    </tr>\n",
       "    <tr>\n",
       "      <th>1</th>\n",
       "      <td>1</td>\n",
       "      <td>female</td>\n",
       "    </tr>\n",
       "    <tr>\n",
       "      <th>2</th>\n",
       "      <td>2</td>\n",
       "      <td>other</td>\n",
       "    </tr>\n",
       "  </tbody>\n",
       "</table>\n",
       "</div>"
      ],
      "text/plain": [
       "   column1 column2\n",
       "0        0    male\n",
       "1        1  female\n",
       "2        2   other"
      ]
     },
     "execution_count": 56,
     "metadata": {},
     "output_type": "execute_result"
    }
   ],
   "source": [
    "#change it back with .loc\n",
    "df.iloc[0,1] = \"male\"\n",
    "df"
   ]
  },
  {
   "cell_type": "markdown",
   "metadata": {},
   "source": [
    "You can add a new column to the dataframe, like so:"
   ]
  },
  {
   "cell_type": "code",
   "execution_count": 57,
   "metadata": {
    "collapsed": false,
    "scrolled": true
   },
   "outputs": [
    {
     "data": {
      "text/html": [
       "<div>\n",
       "<style scoped>\n",
       "    .dataframe tbody tr th:only-of-type {\n",
       "        vertical-align: middle;\n",
       "    }\n",
       "\n",
       "    .dataframe tbody tr th {\n",
       "        vertical-align: top;\n",
       "    }\n",
       "\n",
       "    .dataframe thead th {\n",
       "        text-align: right;\n",
       "    }\n",
       "</style>\n",
       "<table border=\"1\" class=\"dataframe\">\n",
       "  <thead>\n",
       "    <tr style=\"text-align: right;\">\n",
       "      <th></th>\n",
       "      <th>column1</th>\n",
       "      <th>column2</th>\n",
       "      <th>column3</th>\n",
       "    </tr>\n",
       "  </thead>\n",
       "  <tbody>\n",
       "    <tr>\n",
       "      <th>0</th>\n",
       "      <td>0</td>\n",
       "      <td>male</td>\n",
       "      <td>1.5</td>\n",
       "    </tr>\n",
       "    <tr>\n",
       "      <th>1</th>\n",
       "      <td>1</td>\n",
       "      <td>female</td>\n",
       "      <td>24.0</td>\n",
       "    </tr>\n",
       "    <tr>\n",
       "      <th>2</th>\n",
       "      <td>2</td>\n",
       "      <td>other</td>\n",
       "      <td>14.5</td>\n",
       "    </tr>\n",
       "  </tbody>\n",
       "</table>\n",
       "</div>"
      ],
      "text/plain": [
       "   column1 column2  column3\n",
       "0        0    male      1.5\n",
       "1        1  female     24.0\n",
       "2        2   other     14.5"
      ]
     },
     "execution_count": 57,
     "metadata": {},
     "output_type": "execute_result"
    }
   ],
   "source": [
    "# add a new column\n",
    "df['column3'] = [1.5,24,14.5]\n",
    "df"
   ]
  },
  {
   "cell_type": "markdown",
   "metadata": {},
   "source": [
    "You can create a new variable based on one or more old variables, for example by adding them together, or applying some boolean logic:"
   ]
  },
  {
   "cell_type": "code",
   "execution_count": 58,
   "metadata": {
    "collapsed": false,
    "scrolled": true
   },
   "outputs": [
    {
     "data": {
      "text/html": [
       "<div>\n",
       "<style scoped>\n",
       "    .dataframe tbody tr th:only-of-type {\n",
       "        vertical-align: middle;\n",
       "    }\n",
       "\n",
       "    .dataframe tbody tr th {\n",
       "        vertical-align: top;\n",
       "    }\n",
       "\n",
       "    .dataframe thead th {\n",
       "        text-align: right;\n",
       "    }\n",
       "</style>\n",
       "<table border=\"1\" class=\"dataframe\">\n",
       "  <thead>\n",
       "    <tr style=\"text-align: right;\">\n",
       "      <th></th>\n",
       "      <th>column1</th>\n",
       "      <th>column2</th>\n",
       "      <th>column3</th>\n",
       "      <th>column4</th>\n",
       "    </tr>\n",
       "  </thead>\n",
       "  <tbody>\n",
       "    <tr>\n",
       "      <th>0</th>\n",
       "      <td>0</td>\n",
       "      <td>male</td>\n",
       "      <td>1.5</td>\n",
       "      <td>1.5</td>\n",
       "    </tr>\n",
       "    <tr>\n",
       "      <th>1</th>\n",
       "      <td>1</td>\n",
       "      <td>female</td>\n",
       "      <td>24.0</td>\n",
       "      <td>25.0</td>\n",
       "    </tr>\n",
       "    <tr>\n",
       "      <th>2</th>\n",
       "      <td>2</td>\n",
       "      <td>other</td>\n",
       "      <td>14.5</td>\n",
       "      <td>16.5</td>\n",
       "    </tr>\n",
       "  </tbody>\n",
       "</table>\n",
       "</div>"
      ],
      "text/plain": [
       "   column1 column2  column3  column4\n",
       "0        0    male      1.5      1.5\n",
       "1        1  female     24.0     25.0\n",
       "2        2   other     14.5     16.5"
      ]
     },
     "execution_count": 58,
     "metadata": {},
     "output_type": "execute_result"
    }
   ],
   "source": [
    "# Adding two columns\n",
    "df['column4'] = df['column1'] + df['column3']\n",
    "df"
   ]
  },
  {
   "cell_type": "code",
   "execution_count": 59,
   "metadata": {
    "collapsed": false,
    "scrolled": true
   },
   "outputs": [
    {
     "data": {
      "text/html": [
       "<div>\n",
       "<style scoped>\n",
       "    .dataframe tbody tr th:only-of-type {\n",
       "        vertical-align: middle;\n",
       "    }\n",
       "\n",
       "    .dataframe tbody tr th {\n",
       "        vertical-align: top;\n",
       "    }\n",
       "\n",
       "    .dataframe thead th {\n",
       "        text-align: right;\n",
       "    }\n",
       "</style>\n",
       "<table border=\"1\" class=\"dataframe\">\n",
       "  <thead>\n",
       "    <tr style=\"text-align: right;\">\n",
       "      <th></th>\n",
       "      <th>column1</th>\n",
       "      <th>column2</th>\n",
       "      <th>column3</th>\n",
       "      <th>column4</th>\n",
       "      <th>column5</th>\n",
       "    </tr>\n",
       "  </thead>\n",
       "  <tbody>\n",
       "    <tr>\n",
       "      <th>0</th>\n",
       "      <td>0</td>\n",
       "      <td>male</td>\n",
       "      <td>1.5</td>\n",
       "      <td>1.5</td>\n",
       "      <td>low</td>\n",
       "    </tr>\n",
       "    <tr>\n",
       "      <th>1</th>\n",
       "      <td>1</td>\n",
       "      <td>female</td>\n",
       "      <td>24.0</td>\n",
       "      <td>25.0</td>\n",
       "      <td>high</td>\n",
       "    </tr>\n",
       "    <tr>\n",
       "      <th>2</th>\n",
       "      <td>2</td>\n",
       "      <td>other</td>\n",
       "      <td>14.5</td>\n",
       "      <td>16.5</td>\n",
       "      <td>high</td>\n",
       "    </tr>\n",
       "  </tbody>\n",
       "</table>\n",
       "</div>"
      ],
      "text/plain": [
       "   column1 column2  column3  column4 column5\n",
       "0        0    male      1.5      1.5     low\n",
       "1        1  female     24.0     25.0    high\n",
       "2        2   other     14.5     16.5    high"
      ]
     },
     "execution_count": 59,
     "metadata": {},
     "output_type": "execute_result"
    }
   ],
   "source": [
    "# Boolean logic: see which observations have a high value in column4:\n",
    "df['column5'] = 'low' #make a new columns and write low in all rows\n",
    "df.loc[df['column4']>10,\"column5\"] = \"high\"\n",
    "df"
   ]
  },
  {
   "cell_type": "markdown",
   "metadata": {},
   "source": [
    "Your turn:\n",
    "- change the value of column1 for the first participant to 7\n",
    "- make a new variable, where every value is the mean of column 3 (hint: you can use numpy functions on pandas Series)\n",
    "- can you make a new variable that has the mean of all the numeric columns for each row (hint: see <a href=\"https://pandas.pydata.org/pandas-docs/stable/generated/pandas.DataFrame.mean.html\">this documentation</a> for help)?\n",
    "- make a new boolean variable which is 1 for all females and 0 otherwise\n",
    "- display the final dataframe after the cell below"
   ]
  },
  {
   "cell_type": "code",
   "execution_count": 71,
   "metadata": {
    "collapsed": false
   },
   "outputs": [
    {
     "name": "stdout",
     "output_type": "stream",
     "text": [
      "column1         3.333333\n",
      "column3        13.333333\n",
      "column4        14.333333\n",
      "mean           13.333333\n",
      "global_mean    11.083333\n",
      "dtype: float64\n",
      "0     5.833333\n",
      "1    15.833333\n",
      "2    11.583333\n",
      "dtype: float64\n",
      "   column1 column2  column3  column4 column5       mean  global_mean column8\n",
      "0      7.0    male      1.5      1.5     low  13.333333     5.833333       0\n",
      "1      1.0  female     24.0     25.0    high  13.333333    15.833333       1\n",
      "2      2.0   other     14.5     16.5    high  13.333333    11.583333       0\n"
     ]
    }
   ],
   "source": [
    "# Code here.\n",
    "df.iloc[0,0] = \"7\" #change value for participant 1 in the first column\n",
    "\n",
    "\n",
    "df['mean'] = np.mean(df[\"column3\"]) #make new column with the mean value of column 3\n",
    "\n",
    "\n",
    "df[\"column1\"] = df[\"column1\"].astype(float) #column1 is a string, turn it into a number\n",
    "\n",
    "print(df.mean(axis = 0)) #calculate mean for each column\n",
    "\n",
    "print(df.mean(axis = 1)) #calculate mean for each row\n",
    "\n",
    "df[\"global_mean\"] = df.mean(axis = 1) #make a new column called global mean\n",
    "\n",
    "\n",
    "df['column8'] = 0 #make a new columns and write 0 in all rows\n",
    "df.loc[df['column2'] ==  \"female\",\"column8\"] = \"1\" # if equal to female, write 1\n",
    "\n",
    "print(df)\n",
    "\n",
    "\n",
    "\n"
   ]
  },
  {
   "cell_type": "markdown",
   "metadata": {},
   "source": [
    "## 4. Triangles Datasets\n",
    "\n",
    "Okay. Let's get started on some real data. Here's a short intro to the triangles dataset we'll be using throughout the course:\n",
    "\n",
    "A common way to test Theory of Mind abilities in neuropsychiatric conditions is the Animated Triangles test (<a href=\"https://www.sciencedirect.com/science/article/pii/S0885201400000149\">Abell et al. 2000</a>). Participants are asked to watch 8-10 videos of triangles moving across the screen and to describe then. Half of the videos contain random movements, half micro-scenarios (e.g. triangles chasing each other). The descriptions are then scored (by hand) by psychologist in terms of whether the intentional vs. random nature of the triangles is correctly inferred. The descriptions are not further analysed. Given the widespread use of the test, and the semi-controlled nature of the descriptions (all regarding relatively simple scenarios), the transcriptions are a very rich source of potential information about the cognitive and social ability of the participants. In the two datasets provided, you have data collected from people with schizophrenia, people with depression and matched controls for each group.\n",
    "\n",
    "For your convenience, the text descriptions of triangles by participants have been pre-processed into bag-of-words features. There is one row per participant, one column per word, and one column indicating the \"label\" of that participant, i.e. diagnosis. Features that occur only once in the entire dataset have been removed (to make this more manageable and reduce the number of features; since they wouldn't be predictive between training and testing). Tomorrow, you will train a classifier that categorises each participant as depressed/not depressed and schizophrenic/not schizophrenic, based on the words they use.\n",
    "\n",
    "Today, we'll do some data exploration and plotting. We'll start with the scezophrenia data:"
   ]
  },
  {
   "cell_type": "code",
   "execution_count": 75,
   "metadata": {
    "collapsed": false
   },
   "outputs": [],
   "source": [
    "#load the dataset\n",
    "data_path = os.path.join(os.getcwd(), '../data', 'triangles_schizophrenia.csv')\n",
    "data_s = pd.read_csv(data_path,index_col=0) #pd.read_csv creates a new dataframe from a csv file\n",
    "\n",
    "#data_s"
   ]
  },
  {
   "cell_type": "markdown",
   "metadata": {},
   "source": [
    "```pd.read_csv``` creates a new dataframe from a csv file. Set the first column as index_col, since I wrote the index already to the csv when creating this data. See <a href=\"https://pandas.pydata.org/pandas-docs/stable/generated/pandas.read_csv.html\">the documentation</a> of ```pd.read_csv``` for details.\n",
    "\n",
    "Try to get an overview over the data by executing the cells below."
   ]
  },
  {
   "cell_type": "code",
   "execution_count": 76,
   "metadata": {
    "collapsed": false,
    "scrolled": true
   },
   "outputs": [
    {
     "data": {
      "text/html": [
       "<div>\n",
       "<style scoped>\n",
       "    .dataframe tbody tr th:only-of-type {\n",
       "        vertical-align: middle;\n",
       "    }\n",
       "\n",
       "    .dataframe tbody tr th {\n",
       "        vertical-align: top;\n",
       "    }\n",
       "\n",
       "    .dataframe thead th {\n",
       "        text-align: right;\n",
       "    }\n",
       "</style>\n",
       "<table border=\"1\" class=\"dataframe\">\n",
       "  <thead>\n",
       "    <tr style=\"text-align: right;\">\n",
       "      <th></th>\n",
       "      <th>de</th>\n",
       "      <th>der</th>\n",
       "      <th>trekanter</th>\n",
       "      <th>sdan</th>\n",
       "      <th>flyver</th>\n",
       "      <th>rundt</th>\n",
       "      <th>i</th>\n",
       "      <th>den</th>\n",
       "      <th>firkant</th>\n",
       "      <th>frem</th>\n",
       "      <th>...</th>\n",
       "      <th>killede</th>\n",
       "      <th>forstod</th>\n",
       "      <th>forskrkkelse</th>\n",
       "      <th>snuser</th>\n",
       "      <th>mh</th>\n",
       "      <th>nja</th>\n",
       "      <th>fatter</th>\n",
       "      <th>besg</th>\n",
       "      <th>pile</th>\n",
       "      <th>label</th>\n",
       "    </tr>\n",
       "  </thead>\n",
       "  <tbody>\n",
       "    <tr>\n",
       "      <th>0</th>\n",
       "      <td>5.0</td>\n",
       "      <td>5.0</td>\n",
       "      <td>2.0</td>\n",
       "      <td>0.0</td>\n",
       "      <td>0.0</td>\n",
       "      <td>4.0</td>\n",
       "      <td>5.0</td>\n",
       "      <td>27.0</td>\n",
       "      <td>2.0</td>\n",
       "      <td>0.0</td>\n",
       "      <td>...</td>\n",
       "      <td>0.0</td>\n",
       "      <td>0.0</td>\n",
       "      <td>0.0</td>\n",
       "      <td>0.0</td>\n",
       "      <td>0.0</td>\n",
       "      <td>0.0</td>\n",
       "      <td>0.0</td>\n",
       "      <td>0.0</td>\n",
       "      <td>0.0</td>\n",
       "      <td>Controls</td>\n",
       "    </tr>\n",
       "    <tr>\n",
       "      <th>1</th>\n",
       "      <td>7.0</td>\n",
       "      <td>0.0</td>\n",
       "      <td>1.0</td>\n",
       "      <td>1.0</td>\n",
       "      <td>0.0</td>\n",
       "      <td>2.0</td>\n",
       "      <td>4.0</td>\n",
       "      <td>16.0</td>\n",
       "      <td>0.0</td>\n",
       "      <td>1.0</td>\n",
       "      <td>...</td>\n",
       "      <td>0.0</td>\n",
       "      <td>0.0</td>\n",
       "      <td>0.0</td>\n",
       "      <td>0.0</td>\n",
       "      <td>0.0</td>\n",
       "      <td>0.0</td>\n",
       "      <td>0.0</td>\n",
       "      <td>0.0</td>\n",
       "      <td>0.0</td>\n",
       "      <td>Controls</td>\n",
       "    </tr>\n",
       "    <tr>\n",
       "      <th>2</th>\n",
       "      <td>3.0</td>\n",
       "      <td>6.0</td>\n",
       "      <td>6.0</td>\n",
       "      <td>0.0</td>\n",
       "      <td>0.0</td>\n",
       "      <td>2.0</td>\n",
       "      <td>8.0</td>\n",
       "      <td>16.0</td>\n",
       "      <td>2.0</td>\n",
       "      <td>0.0</td>\n",
       "      <td>...</td>\n",
       "      <td>0.0</td>\n",
       "      <td>0.0</td>\n",
       "      <td>0.0</td>\n",
       "      <td>0.0</td>\n",
       "      <td>0.0</td>\n",
       "      <td>0.0</td>\n",
       "      <td>0.0</td>\n",
       "      <td>0.0</td>\n",
       "      <td>0.0</td>\n",
       "      <td>Controls</td>\n",
       "    </tr>\n",
       "    <tr>\n",
       "      <th>3</th>\n",
       "      <td>7.0</td>\n",
       "      <td>12.0</td>\n",
       "      <td>0.0</td>\n",
       "      <td>0.0</td>\n",
       "      <td>0.0</td>\n",
       "      <td>7.0</td>\n",
       "      <td>18.0</td>\n",
       "      <td>40.0</td>\n",
       "      <td>11.0</td>\n",
       "      <td>0.0</td>\n",
       "      <td>...</td>\n",
       "      <td>0.0</td>\n",
       "      <td>0.0</td>\n",
       "      <td>0.0</td>\n",
       "      <td>0.0</td>\n",
       "      <td>0.0</td>\n",
       "      <td>0.0</td>\n",
       "      <td>0.0</td>\n",
       "      <td>0.0</td>\n",
       "      <td>0.0</td>\n",
       "      <td>Controls</td>\n",
       "    </tr>\n",
       "    <tr>\n",
       "      <th>4</th>\n",
       "      <td>1.0</td>\n",
       "      <td>5.0</td>\n",
       "      <td>1.0</td>\n",
       "      <td>1.0</td>\n",
       "      <td>0.0</td>\n",
       "      <td>1.0</td>\n",
       "      <td>2.0</td>\n",
       "      <td>14.0</td>\n",
       "      <td>0.0</td>\n",
       "      <td>0.0</td>\n",
       "      <td>...</td>\n",
       "      <td>0.0</td>\n",
       "      <td>0.0</td>\n",
       "      <td>0.0</td>\n",
       "      <td>0.0</td>\n",
       "      <td>0.0</td>\n",
       "      <td>0.0</td>\n",
       "      <td>0.0</td>\n",
       "      <td>0.0</td>\n",
       "      <td>0.0</td>\n",
       "      <td>Controls</td>\n",
       "    </tr>\n",
       "  </tbody>\n",
       "</table>\n",
       "<p>5 rows × 1073 columns</p>\n",
       "</div>"
      ],
      "text/plain": [
       "    de   der  trekanter  sdan  flyver  rundt     i   den  firkant  frem  \\\n",
       "0  5.0   5.0        2.0   0.0     0.0    4.0   5.0  27.0      2.0   0.0   \n",
       "1  7.0   0.0        1.0   1.0     0.0    2.0   4.0  16.0      0.0   1.0   \n",
       "2  3.0   6.0        6.0   0.0     0.0    2.0   8.0  16.0      2.0   0.0   \n",
       "3  7.0  12.0        0.0   0.0     0.0    7.0  18.0  40.0     11.0   0.0   \n",
       "4  1.0   5.0        1.0   1.0     0.0    1.0   2.0  14.0      0.0   0.0   \n",
       "\n",
       "     ...     killede  forstod  forskrkkelse  snuser   mh  nja  fatter  besg  \\\n",
       "0    ...         0.0      0.0           0.0     0.0  0.0  0.0     0.0   0.0   \n",
       "1    ...         0.0      0.0           0.0     0.0  0.0  0.0     0.0   0.0   \n",
       "2    ...         0.0      0.0           0.0     0.0  0.0  0.0     0.0   0.0   \n",
       "3    ...         0.0      0.0           0.0     0.0  0.0  0.0     0.0   0.0   \n",
       "4    ...         0.0      0.0           0.0     0.0  0.0  0.0     0.0   0.0   \n",
       "\n",
       "   pile     label  \n",
       "0   0.0  Controls  \n",
       "1   0.0  Controls  \n",
       "2   0.0  Controls  \n",
       "3   0.0  Controls  \n",
       "4   0.0  Controls  \n",
       "\n",
       "[5 rows x 1073 columns]"
      ]
     },
     "execution_count": 76,
     "metadata": {},
     "output_type": "execute_result"
    }
   ],
   "source": [
    "data_s.head()"
   ]
  },
  {
   "cell_type": "code",
   "execution_count": 77,
   "metadata": {
    "collapsed": false
   },
   "outputs": [
    {
     "data": {
      "text/html": [
       "<div>\n",
       "<style scoped>\n",
       "    .dataframe tbody tr th:only-of-type {\n",
       "        vertical-align: middle;\n",
       "    }\n",
       "\n",
       "    .dataframe tbody tr th {\n",
       "        vertical-align: top;\n",
       "    }\n",
       "\n",
       "    .dataframe thead th {\n",
       "        text-align: right;\n",
       "    }\n",
       "</style>\n",
       "<table border=\"1\" class=\"dataframe\">\n",
       "  <thead>\n",
       "    <tr style=\"text-align: right;\">\n",
       "      <th></th>\n",
       "      <th>de</th>\n",
       "      <th>der</th>\n",
       "      <th>trekanter</th>\n",
       "      <th>sdan</th>\n",
       "      <th>flyver</th>\n",
       "      <th>rundt</th>\n",
       "      <th>i</th>\n",
       "      <th>den</th>\n",
       "      <th>firkant</th>\n",
       "      <th>frem</th>\n",
       "      <th>...</th>\n",
       "      <th>killede</th>\n",
       "      <th>forstod</th>\n",
       "      <th>forskrkkelse</th>\n",
       "      <th>snuser</th>\n",
       "      <th>mh</th>\n",
       "      <th>nja</th>\n",
       "      <th>fatter</th>\n",
       "      <th>besg</th>\n",
       "      <th>pile</th>\n",
       "      <th>label</th>\n",
       "    </tr>\n",
       "  </thead>\n",
       "  <tbody>\n",
       "    <tr>\n",
       "      <th>146</th>\n",
       "      <td>21.0</td>\n",
       "      <td>7.0</td>\n",
       "      <td>6.0</td>\n",
       "      <td>1.0</td>\n",
       "      <td>0.0</td>\n",
       "      <td>6.0</td>\n",
       "      <td>24.0</td>\n",
       "      <td>70.0</td>\n",
       "      <td>4.0</td>\n",
       "      <td>2.0</td>\n",
       "      <td>...</td>\n",
       "      <td>0.0</td>\n",
       "      <td>0.0</td>\n",
       "      <td>0.0</td>\n",
       "      <td>0.0</td>\n",
       "      <td>0.0</td>\n",
       "      <td>0.0</td>\n",
       "      <td>0.0</td>\n",
       "      <td>0.0</td>\n",
       "      <td>0.0</td>\n",
       "      <td>Patients</td>\n",
       "    </tr>\n",
       "    <tr>\n",
       "      <th>147</th>\n",
       "      <td>5.0</td>\n",
       "      <td>4.0</td>\n",
       "      <td>2.0</td>\n",
       "      <td>0.0</td>\n",
       "      <td>0.0</td>\n",
       "      <td>2.0</td>\n",
       "      <td>5.0</td>\n",
       "      <td>21.0</td>\n",
       "      <td>3.0</td>\n",
       "      <td>1.0</td>\n",
       "      <td>...</td>\n",
       "      <td>0.0</td>\n",
       "      <td>0.0</td>\n",
       "      <td>0.0</td>\n",
       "      <td>0.0</td>\n",
       "      <td>0.0</td>\n",
       "      <td>0.0</td>\n",
       "      <td>0.0</td>\n",
       "      <td>0.0</td>\n",
       "      <td>0.0</td>\n",
       "      <td>Patients</td>\n",
       "    </tr>\n",
       "    <tr>\n",
       "      <th>148</th>\n",
       "      <td>9.0</td>\n",
       "      <td>10.0</td>\n",
       "      <td>2.0</td>\n",
       "      <td>6.0</td>\n",
       "      <td>0.0</td>\n",
       "      <td>2.0</td>\n",
       "      <td>3.0</td>\n",
       "      <td>10.0</td>\n",
       "      <td>1.0</td>\n",
       "      <td>0.0</td>\n",
       "      <td>...</td>\n",
       "      <td>0.0</td>\n",
       "      <td>0.0</td>\n",
       "      <td>0.0</td>\n",
       "      <td>0.0</td>\n",
       "      <td>0.0</td>\n",
       "      <td>0.0</td>\n",
       "      <td>0.0</td>\n",
       "      <td>0.0</td>\n",
       "      <td>0.0</td>\n",
       "      <td>Patients</td>\n",
       "    </tr>\n",
       "    <tr>\n",
       "      <th>149</th>\n",
       "      <td>14.0</td>\n",
       "      <td>12.0</td>\n",
       "      <td>4.0</td>\n",
       "      <td>10.0</td>\n",
       "      <td>0.0</td>\n",
       "      <td>4.0</td>\n",
       "      <td>7.0</td>\n",
       "      <td>23.0</td>\n",
       "      <td>6.0</td>\n",
       "      <td>0.0</td>\n",
       "      <td>...</td>\n",
       "      <td>0.0</td>\n",
       "      <td>0.0</td>\n",
       "      <td>0.0</td>\n",
       "      <td>0.0</td>\n",
       "      <td>0.0</td>\n",
       "      <td>0.0</td>\n",
       "      <td>0.0</td>\n",
       "      <td>0.0</td>\n",
       "      <td>0.0</td>\n",
       "      <td>Patients</td>\n",
       "    </tr>\n",
       "    <tr>\n",
       "      <th>150</th>\n",
       "      <td>0.0</td>\n",
       "      <td>7.0</td>\n",
       "      <td>6.0</td>\n",
       "      <td>0.0</td>\n",
       "      <td>0.0</td>\n",
       "      <td>2.0</td>\n",
       "      <td>2.0</td>\n",
       "      <td>1.0</td>\n",
       "      <td>1.0</td>\n",
       "      <td>0.0</td>\n",
       "      <td>...</td>\n",
       "      <td>0.0</td>\n",
       "      <td>0.0</td>\n",
       "      <td>0.0</td>\n",
       "      <td>0.0</td>\n",
       "      <td>0.0</td>\n",
       "      <td>0.0</td>\n",
       "      <td>0.0</td>\n",
       "      <td>0.0</td>\n",
       "      <td>0.0</td>\n",
       "      <td>Patients</td>\n",
       "    </tr>\n",
       "  </tbody>\n",
       "</table>\n",
       "<p>5 rows × 1073 columns</p>\n",
       "</div>"
      ],
      "text/plain": [
       "       de   der  trekanter  sdan  flyver  rundt     i   den  firkant  frem  \\\n",
       "146  21.0   7.0        6.0   1.0     0.0    6.0  24.0  70.0      4.0   2.0   \n",
       "147   5.0   4.0        2.0   0.0     0.0    2.0   5.0  21.0      3.0   1.0   \n",
       "148   9.0  10.0        2.0   6.0     0.0    2.0   3.0  10.0      1.0   0.0   \n",
       "149  14.0  12.0        4.0  10.0     0.0    4.0   7.0  23.0      6.0   0.0   \n",
       "150   0.0   7.0        6.0   0.0     0.0    2.0   2.0   1.0      1.0   0.0   \n",
       "\n",
       "       ...     killede  forstod  forskrkkelse  snuser   mh  nja  fatter  besg  \\\n",
       "146    ...         0.0      0.0           0.0     0.0  0.0  0.0     0.0   0.0   \n",
       "147    ...         0.0      0.0           0.0     0.0  0.0  0.0     0.0   0.0   \n",
       "148    ...         0.0      0.0           0.0     0.0  0.0  0.0     0.0   0.0   \n",
       "149    ...         0.0      0.0           0.0     0.0  0.0  0.0     0.0   0.0   \n",
       "150    ...         0.0      0.0           0.0     0.0  0.0  0.0     0.0   0.0   \n",
       "\n",
       "     pile     label  \n",
       "146   0.0  Patients  \n",
       "147   0.0  Patients  \n",
       "148   0.0  Patients  \n",
       "149   0.0  Patients  \n",
       "150   0.0  Patients  \n",
       "\n",
       "[5 rows x 1073 columns]"
      ]
     },
     "execution_count": 77,
     "metadata": {},
     "output_type": "execute_result"
    }
   ],
   "source": [
    "data_s.tail()"
   ]
  },
  {
   "cell_type": "code",
   "execution_count": 78,
   "metadata": {
    "collapsed": false
   },
   "outputs": [
    {
     "data": {
      "text/plain": [
       "(151, 1073)"
      ]
     },
     "execution_count": 78,
     "metadata": {},
     "output_type": "execute_result"
    }
   ],
   "source": [
    "data_s.shape"
   ]
  },
  {
   "cell_type": "code",
   "execution_count": 79,
   "metadata": {
    "collapsed": false
   },
   "outputs": [
    {
     "name": "stdout",
     "output_type": "stream",
     "text": [
      "<class 'pandas.core.frame.DataFrame'>\n",
      "Int64Index: 151 entries, 0 to 150\n",
      "Columns: 1073 entries, de to label\n",
      "dtypes: float64(1071), int64(1), object(1)\n",
      "memory usage: 1.2+ MB\n"
     ]
    }
   ],
   "source": [
    "data_s.info()"
   ]
  },
  {
   "cell_type": "code",
   "execution_count": 80,
   "metadata": {
    "collapsed": false,
    "scrolled": false
   },
   "outputs": [
    {
     "data": {
      "text/html": [
       "<div>\n",
       "<style scoped>\n",
       "    .dataframe tbody tr th:only-of-type {\n",
       "        vertical-align: middle;\n",
       "    }\n",
       "\n",
       "    .dataframe tbody tr th {\n",
       "        vertical-align: top;\n",
       "    }\n",
       "\n",
       "    .dataframe thead th {\n",
       "        text-align: right;\n",
       "    }\n",
       "</style>\n",
       "<table border=\"1\" class=\"dataframe\">\n",
       "  <thead>\n",
       "    <tr style=\"text-align: right;\">\n",
       "      <th></th>\n",
       "      <th>de</th>\n",
       "      <th>der</th>\n",
       "      <th>trekanter</th>\n",
       "      <th>sdan</th>\n",
       "      <th>flyver</th>\n",
       "      <th>rundt</th>\n",
       "      <th>i</th>\n",
       "      <th>den</th>\n",
       "      <th>firkant</th>\n",
       "      <th>frem</th>\n",
       "      <th>...</th>\n",
       "      <th>kikkede</th>\n",
       "      <th>killede</th>\n",
       "      <th>forstod</th>\n",
       "      <th>forskrkkelse</th>\n",
       "      <th>snuser</th>\n",
       "      <th>mh</th>\n",
       "      <th>nja</th>\n",
       "      <th>fatter</th>\n",
       "      <th>besg</th>\n",
       "      <th>pile</th>\n",
       "    </tr>\n",
       "  </thead>\n",
       "  <tbody>\n",
       "    <tr>\n",
       "      <th>count</th>\n",
       "      <td>151.000000</td>\n",
       "      <td>151.000000</td>\n",
       "      <td>151.000000</td>\n",
       "      <td>151.000000</td>\n",
       "      <td>151.000000</td>\n",
       "      <td>151.000000</td>\n",
       "      <td>151.000000</td>\n",
       "      <td>151.000000</td>\n",
       "      <td>151.000000</td>\n",
       "      <td>151.000000</td>\n",
       "      <td>...</td>\n",
       "      <td>151.000000</td>\n",
       "      <td>151.000000</td>\n",
       "      <td>151.000000</td>\n",
       "      <td>151.000000</td>\n",
       "      <td>151.000000</td>\n",
       "      <td>151.000000</td>\n",
       "      <td>151.000000</td>\n",
       "      <td>151.000000</td>\n",
       "      <td>151.000000</td>\n",
       "      <td>151.000000</td>\n",
       "    </tr>\n",
       "    <tr>\n",
       "      <th>mean</th>\n",
       "      <td>10.450331</td>\n",
       "      <td>9.066225</td>\n",
       "      <td>2.682119</td>\n",
       "      <td>4.629139</td>\n",
       "      <td>0.205298</td>\n",
       "      <td>3.841060</td>\n",
       "      <td>7.900662</td>\n",
       "      <td>26.986755</td>\n",
       "      <td>2.947020</td>\n",
       "      <td>0.596026</td>\n",
       "      <td>...</td>\n",
       "      <td>0.039735</td>\n",
       "      <td>0.019868</td>\n",
       "      <td>0.013245</td>\n",
       "      <td>0.013245</td>\n",
       "      <td>0.013245</td>\n",
       "      <td>0.019868</td>\n",
       "      <td>0.013245</td>\n",
       "      <td>0.013245</td>\n",
       "      <td>0.013245</td>\n",
       "      <td>0.019868</td>\n",
       "    </tr>\n",
       "    <tr>\n",
       "      <th>std</th>\n",
       "      <td>7.294463</td>\n",
       "      <td>6.403821</td>\n",
       "      <td>2.269716</td>\n",
       "      <td>5.724353</td>\n",
       "      <td>0.759981</td>\n",
       "      <td>2.175907</td>\n",
       "      <td>6.450587</td>\n",
       "      <td>16.753502</td>\n",
       "      <td>4.159789</td>\n",
       "      <td>0.817955</td>\n",
       "      <td>...</td>\n",
       "      <td>0.227473</td>\n",
       "      <td>0.140009</td>\n",
       "      <td>0.114703</td>\n",
       "      <td>0.114703</td>\n",
       "      <td>0.114703</td>\n",
       "      <td>0.181483</td>\n",
       "      <td>0.114703</td>\n",
       "      <td>0.114703</td>\n",
       "      <td>0.114703</td>\n",
       "      <td>0.181483</td>\n",
       "    </tr>\n",
       "    <tr>\n",
       "      <th>min</th>\n",
       "      <td>0.000000</td>\n",
       "      <td>0.000000</td>\n",
       "      <td>0.000000</td>\n",
       "      <td>0.000000</td>\n",
       "      <td>0.000000</td>\n",
       "      <td>0.000000</td>\n",
       "      <td>0.000000</td>\n",
       "      <td>0.000000</td>\n",
       "      <td>0.000000</td>\n",
       "      <td>0.000000</td>\n",
       "      <td>...</td>\n",
       "      <td>0.000000</td>\n",
       "      <td>0.000000</td>\n",
       "      <td>0.000000</td>\n",
       "      <td>0.000000</td>\n",
       "      <td>0.000000</td>\n",
       "      <td>0.000000</td>\n",
       "      <td>0.000000</td>\n",
       "      <td>0.000000</td>\n",
       "      <td>0.000000</td>\n",
       "      <td>0.000000</td>\n",
       "    </tr>\n",
       "    <tr>\n",
       "      <th>25%</th>\n",
       "      <td>5.000000</td>\n",
       "      <td>4.000000</td>\n",
       "      <td>1.000000</td>\n",
       "      <td>1.000000</td>\n",
       "      <td>0.000000</td>\n",
       "      <td>2.000000</td>\n",
       "      <td>4.000000</td>\n",
       "      <td>14.000000</td>\n",
       "      <td>0.000000</td>\n",
       "      <td>0.000000</td>\n",
       "      <td>...</td>\n",
       "      <td>0.000000</td>\n",
       "      <td>0.000000</td>\n",
       "      <td>0.000000</td>\n",
       "      <td>0.000000</td>\n",
       "      <td>0.000000</td>\n",
       "      <td>0.000000</td>\n",
       "      <td>0.000000</td>\n",
       "      <td>0.000000</td>\n",
       "      <td>0.000000</td>\n",
       "      <td>0.000000</td>\n",
       "    </tr>\n",
       "    <tr>\n",
       "      <th>50%</th>\n",
       "      <td>9.000000</td>\n",
       "      <td>8.000000</td>\n",
       "      <td>2.000000</td>\n",
       "      <td>3.000000</td>\n",
       "      <td>0.000000</td>\n",
       "      <td>3.000000</td>\n",
       "      <td>6.000000</td>\n",
       "      <td>25.000000</td>\n",
       "      <td>1.000000</td>\n",
       "      <td>0.000000</td>\n",
       "      <td>...</td>\n",
       "      <td>0.000000</td>\n",
       "      <td>0.000000</td>\n",
       "      <td>0.000000</td>\n",
       "      <td>0.000000</td>\n",
       "      <td>0.000000</td>\n",
       "      <td>0.000000</td>\n",
       "      <td>0.000000</td>\n",
       "      <td>0.000000</td>\n",
       "      <td>0.000000</td>\n",
       "      <td>0.000000</td>\n",
       "    </tr>\n",
       "    <tr>\n",
       "      <th>75%</th>\n",
       "      <td>13.000000</td>\n",
       "      <td>12.000000</td>\n",
       "      <td>4.000000</td>\n",
       "      <td>6.000000</td>\n",
       "      <td>0.000000</td>\n",
       "      <td>5.000000</td>\n",
       "      <td>11.000000</td>\n",
       "      <td>35.000000</td>\n",
       "      <td>5.000000</td>\n",
       "      <td>1.000000</td>\n",
       "      <td>...</td>\n",
       "      <td>0.000000</td>\n",
       "      <td>0.000000</td>\n",
       "      <td>0.000000</td>\n",
       "      <td>0.000000</td>\n",
       "      <td>0.000000</td>\n",
       "      <td>0.000000</td>\n",
       "      <td>0.000000</td>\n",
       "      <td>0.000000</td>\n",
       "      <td>0.000000</td>\n",
       "      <td>0.000000</td>\n",
       "    </tr>\n",
       "    <tr>\n",
       "      <th>max</th>\n",
       "      <td>43.000000</td>\n",
       "      <td>35.000000</td>\n",
       "      <td>10.000000</td>\n",
       "      <td>30.000000</td>\n",
       "      <td>5.000000</td>\n",
       "      <td>13.000000</td>\n",
       "      <td>44.000000</td>\n",
       "      <td>86.000000</td>\n",
       "      <td>25.000000</td>\n",
       "      <td>4.000000</td>\n",
       "      <td>...</td>\n",
       "      <td>2.000000</td>\n",
       "      <td>1.000000</td>\n",
       "      <td>1.000000</td>\n",
       "      <td>1.000000</td>\n",
       "      <td>1.000000</td>\n",
       "      <td>2.000000</td>\n",
       "      <td>1.000000</td>\n",
       "      <td>1.000000</td>\n",
       "      <td>1.000000</td>\n",
       "      <td>2.000000</td>\n",
       "    </tr>\n",
       "  </tbody>\n",
       "</table>\n",
       "<p>8 rows × 1072 columns</p>\n",
       "</div>"
      ],
      "text/plain": [
       "               de         der   trekanter        sdan      flyver       rundt  \\\n",
       "count  151.000000  151.000000  151.000000  151.000000  151.000000  151.000000   \n",
       "mean    10.450331    9.066225    2.682119    4.629139    0.205298    3.841060   \n",
       "std      7.294463    6.403821    2.269716    5.724353    0.759981    2.175907   \n",
       "min      0.000000    0.000000    0.000000    0.000000    0.000000    0.000000   \n",
       "25%      5.000000    4.000000    1.000000    1.000000    0.000000    2.000000   \n",
       "50%      9.000000    8.000000    2.000000    3.000000    0.000000    3.000000   \n",
       "75%     13.000000   12.000000    4.000000    6.000000    0.000000    5.000000   \n",
       "max     43.000000   35.000000   10.000000   30.000000    5.000000   13.000000   \n",
       "\n",
       "                i         den     firkant        frem     ...         kikkede  \\\n",
       "count  151.000000  151.000000  151.000000  151.000000     ...      151.000000   \n",
       "mean     7.900662   26.986755    2.947020    0.596026     ...        0.039735   \n",
       "std      6.450587   16.753502    4.159789    0.817955     ...        0.227473   \n",
       "min      0.000000    0.000000    0.000000    0.000000     ...        0.000000   \n",
       "25%      4.000000   14.000000    0.000000    0.000000     ...        0.000000   \n",
       "50%      6.000000   25.000000    1.000000    0.000000     ...        0.000000   \n",
       "75%     11.000000   35.000000    5.000000    1.000000     ...        0.000000   \n",
       "max     44.000000   86.000000   25.000000    4.000000     ...        2.000000   \n",
       "\n",
       "          killede     forstod  forskrkkelse      snuser          mh  \\\n",
       "count  151.000000  151.000000    151.000000  151.000000  151.000000   \n",
       "mean     0.019868    0.013245      0.013245    0.013245    0.019868   \n",
       "std      0.140009    0.114703      0.114703    0.114703    0.181483   \n",
       "min      0.000000    0.000000      0.000000    0.000000    0.000000   \n",
       "25%      0.000000    0.000000      0.000000    0.000000    0.000000   \n",
       "50%      0.000000    0.000000      0.000000    0.000000    0.000000   \n",
       "75%      0.000000    0.000000      0.000000    0.000000    0.000000   \n",
       "max      1.000000    1.000000      1.000000    1.000000    2.000000   \n",
       "\n",
       "              nja      fatter        besg        pile  \n",
       "count  151.000000  151.000000  151.000000  151.000000  \n",
       "mean     0.013245    0.013245    0.013245    0.019868  \n",
       "std      0.114703    0.114703    0.114703    0.181483  \n",
       "min      0.000000    0.000000    0.000000    0.000000  \n",
       "25%      0.000000    0.000000    0.000000    0.000000  \n",
       "50%      0.000000    0.000000    0.000000    0.000000  \n",
       "75%      0.000000    0.000000    0.000000    0.000000  \n",
       "max      1.000000    1.000000    1.000000    2.000000  \n",
       "\n",
       "[8 rows x 1072 columns]"
      ]
     },
     "execution_count": 80,
     "metadata": {},
     "output_type": "execute_result"
    }
   ],
   "source": [
    "data_s.describe()"
   ]
  },
  {
   "cell_type": "markdown",
   "metadata": {},
   "source": [
    "#### Summary:\n",
    "\n",
    "- ```.head(x)``` - returns the first x instances of the dataframe (default: 5, if no x given)\n",
    "- ```.tail(x)``` - returns the last x instances of the dataframe (default: 5, if no x given)\n",
    "- ```.shape``` - the shape of the dataframe, in the form: (rows, columns)\n",
    "- ```.info()``` - returns the dataframes metadata\n",
    "- ```.describe()``` - returns a new dataframe, which contains all variable counts, means, sds, min, max and quantile information\n",
    "\n",
    "What's the shape of this dataframe? How many participants, how many variables? What types of variables are there? How many patients, how many controls (*hint: use <a href=\"https://pandas.pydata.org/pandas-docs/stable/generated/pandas.Series.value_counts.html\">```pd.Series.value_counts()```</a> on ```data_s['label']```*)? "
   ]
  },
  {
   "cell_type": "markdown",
   "metadata": {},
   "source": [
    "*Take notes here:*\n",
    "\n",
    "Shape = 151 (rows), 1073 (columns)\n",
    "Participants = 151\n",
    "Variable number = 2\n",
    "Words = 1071 (number of different words)\n",
    "Diagnosis = control/patient\n",
    "Number of patients = 76\n",
    "Number of controls = 75"
   ]
  },
  {
   "cell_type": "code",
   "execution_count": 81,
   "metadata": {
    "collapsed": false
   },
   "outputs": [
    {
     "data": {
      "text/plain": [
       "Patients    76\n",
       "Controls    75\n",
       "Name: label, dtype: int64"
      ]
     },
     "execution_count": 81,
     "metadata": {},
     "output_type": "execute_result"
    }
   ],
   "source": [
    "#Code here.\n",
    "pd.Series.value_counts(data_s[\"label\"])\n"
   ]
  },
  {
   "cell_type": "markdown",
   "metadata": {},
   "source": [
    "Now load and examine the depression dataset (```../data/triangles_depression.csv```; store this in the variable ```data_d```). Answer the same questions as before, using  ```.head(x)```,```.tail(x)```, ```.shape``` , ```.info()```, ```.describe()``` and ```.value_counts()```."
   ]
  },
  {
   "cell_type": "code",
   "execution_count": 82,
   "metadata": {
    "collapsed": false
   },
   "outputs": [
    {
     "data": {
      "text/html": [
       "<div>\n",
       "<style scoped>\n",
       "    .dataframe tbody tr th:only-of-type {\n",
       "        vertical-align: middle;\n",
       "    }\n",
       "\n",
       "    .dataframe tbody tr th {\n",
       "        vertical-align: top;\n",
       "    }\n",
       "\n",
       "    .dataframe thead th {\n",
       "        text-align: right;\n",
       "    }\n",
       "</style>\n",
       "<table border=\"1\" class=\"dataframe\">\n",
       "  <thead>\n",
       "    <tr style=\"text-align: right;\">\n",
       "      <th></th>\n",
       "      <th>det</th>\n",
       "      <th>er</th>\n",
       "      <th>simpelthen</th>\n",
       "      <th>at</th>\n",
       "      <th>den</th>\n",
       "      <th>lille</th>\n",
       "      <th>laver</th>\n",
       "      <th>noget</th>\n",
       "      <th>og</th>\n",
       "      <th>s</th>\n",
       "      <th>...</th>\n",
       "      <th>spids</th>\n",
       "      <th>omsorg</th>\n",
       "      <th>blokere</th>\n",
       "      <th>billedet</th>\n",
       "      <th>sort</th>\n",
       "      <th>hvirvler</th>\n",
       "      <th>foroven</th>\n",
       "      <th>glider</th>\n",
       "      <th>oppe</th>\n",
       "      <th>label</th>\n",
       "    </tr>\n",
       "  </thead>\n",
       "  <tbody>\n",
       "    <tr>\n",
       "      <th>0</th>\n",
       "      <td>4.0</td>\n",
       "      <td>2.0</td>\n",
       "      <td>0.0</td>\n",
       "      <td>2.0</td>\n",
       "      <td>18.0</td>\n",
       "      <td>0.0</td>\n",
       "      <td>0.0</td>\n",
       "      <td>1.0</td>\n",
       "      <td>4.0</td>\n",
       "      <td>1.0</td>\n",
       "      <td>...</td>\n",
       "      <td>0.0</td>\n",
       "      <td>0.0</td>\n",
       "      <td>0.0</td>\n",
       "      <td>0.0</td>\n",
       "      <td>0.0</td>\n",
       "      <td>0.0</td>\n",
       "      <td>0.0</td>\n",
       "      <td>0.0</td>\n",
       "      <td>0.0</td>\n",
       "      <td>Controls</td>\n",
       "    </tr>\n",
       "    <tr>\n",
       "      <th>1</th>\n",
       "      <td>4.0</td>\n",
       "      <td>2.0</td>\n",
       "      <td>0.0</td>\n",
       "      <td>5.0</td>\n",
       "      <td>6.0</td>\n",
       "      <td>0.0</td>\n",
       "      <td>0.0</td>\n",
       "      <td>5.0</td>\n",
       "      <td>6.0</td>\n",
       "      <td>5.0</td>\n",
       "      <td>...</td>\n",
       "      <td>0.0</td>\n",
       "      <td>0.0</td>\n",
       "      <td>0.0</td>\n",
       "      <td>0.0</td>\n",
       "      <td>0.0</td>\n",
       "      <td>0.0</td>\n",
       "      <td>0.0</td>\n",
       "      <td>0.0</td>\n",
       "      <td>0.0</td>\n",
       "      <td>Controls</td>\n",
       "    </tr>\n",
       "    <tr>\n",
       "      <th>2</th>\n",
       "      <td>12.0</td>\n",
       "      <td>10.0</td>\n",
       "      <td>0.0</td>\n",
       "      <td>9.0</td>\n",
       "      <td>12.0</td>\n",
       "      <td>6.0</td>\n",
       "      <td>0.0</td>\n",
       "      <td>6.0</td>\n",
       "      <td>16.0</td>\n",
       "      <td>9.0</td>\n",
       "      <td>...</td>\n",
       "      <td>0.0</td>\n",
       "      <td>0.0</td>\n",
       "      <td>0.0</td>\n",
       "      <td>0.0</td>\n",
       "      <td>0.0</td>\n",
       "      <td>0.0</td>\n",
       "      <td>0.0</td>\n",
       "      <td>0.0</td>\n",
       "      <td>0.0</td>\n",
       "      <td>Controls</td>\n",
       "    </tr>\n",
       "    <tr>\n",
       "      <th>3</th>\n",
       "      <td>8.0</td>\n",
       "      <td>2.0</td>\n",
       "      <td>0.0</td>\n",
       "      <td>0.0</td>\n",
       "      <td>3.0</td>\n",
       "      <td>1.0</td>\n",
       "      <td>0.0</td>\n",
       "      <td>3.0</td>\n",
       "      <td>8.0</td>\n",
       "      <td>4.0</td>\n",
       "      <td>...</td>\n",
       "      <td>0.0</td>\n",
       "      <td>0.0</td>\n",
       "      <td>0.0</td>\n",
       "      <td>0.0</td>\n",
       "      <td>0.0</td>\n",
       "      <td>0.0</td>\n",
       "      <td>0.0</td>\n",
       "      <td>0.0</td>\n",
       "      <td>0.0</td>\n",
       "      <td>Controls</td>\n",
       "    </tr>\n",
       "    <tr>\n",
       "      <th>4</th>\n",
       "      <td>5.0</td>\n",
       "      <td>4.0</td>\n",
       "      <td>0.0</td>\n",
       "      <td>0.0</td>\n",
       "      <td>18.0</td>\n",
       "      <td>2.0</td>\n",
       "      <td>0.0</td>\n",
       "      <td>2.0</td>\n",
       "      <td>1.0</td>\n",
       "      <td>3.0</td>\n",
       "      <td>...</td>\n",
       "      <td>0.0</td>\n",
       "      <td>0.0</td>\n",
       "      <td>0.0</td>\n",
       "      <td>0.0</td>\n",
       "      <td>0.0</td>\n",
       "      <td>0.0</td>\n",
       "      <td>0.0</td>\n",
       "      <td>0.0</td>\n",
       "      <td>0.0</td>\n",
       "      <td>Controls</td>\n",
       "    </tr>\n",
       "  </tbody>\n",
       "</table>\n",
       "<p>5 rows × 870 columns</p>\n",
       "</div>"
      ],
      "text/plain": [
       "    det    er  simpelthen   at   den  lille  laver  noget    og    s  \\\n",
       "0   4.0   2.0         0.0  2.0  18.0    0.0    0.0    1.0   4.0  1.0   \n",
       "1   4.0   2.0         0.0  5.0   6.0    0.0    0.0    5.0   6.0  5.0   \n",
       "2  12.0  10.0         0.0  9.0  12.0    6.0    0.0    6.0  16.0  9.0   \n",
       "3   8.0   2.0         0.0  0.0   3.0    1.0    0.0    3.0   8.0  4.0   \n",
       "4   5.0   4.0         0.0  0.0  18.0    2.0    0.0    2.0   1.0  3.0   \n",
       "\n",
       "     ...     spids  omsorg  blokere  billedet  sort  hvirvler  foroven  \\\n",
       "0    ...       0.0     0.0      0.0       0.0   0.0       0.0      0.0   \n",
       "1    ...       0.0     0.0      0.0       0.0   0.0       0.0      0.0   \n",
       "2    ...       0.0     0.0      0.0       0.0   0.0       0.0      0.0   \n",
       "3    ...       0.0     0.0      0.0       0.0   0.0       0.0      0.0   \n",
       "4    ...       0.0     0.0      0.0       0.0   0.0       0.0      0.0   \n",
       "\n",
       "   glider  oppe     label  \n",
       "0     0.0   0.0  Controls  \n",
       "1     0.0   0.0  Controls  \n",
       "2     0.0   0.0  Controls  \n",
       "3     0.0   0.0  Controls  \n",
       "4     0.0   0.0  Controls  \n",
       "\n",
       "[5 rows x 870 columns]"
      ]
     },
     "execution_count": 82,
     "metadata": {},
     "output_type": "execute_result"
    }
   ],
   "source": [
    "#Code here. (feel free to add new cells below)\n",
    "\n",
    "data_path = os.path.join(os.getcwd(), '../data', 'triangles_depression.csv')\n",
    "data_d = pd.read_csv(data_path,index_col=0) #pr.read_csv creates a new dataframe from a csv file\n",
    "\n",
    "#data_d\n",
    "\n",
    "data_d.head()"
   ]
  },
  {
   "cell_type": "code",
   "execution_count": 359,
   "metadata": {
    "collapsed": false
   },
   "outputs": [
    {
     "data": {
      "text/html": [
       "<div>\n",
       "<style scoped>\n",
       "    .dataframe tbody tr th:only-of-type {\n",
       "        vertical-align: middle;\n",
       "    }\n",
       "\n",
       "    .dataframe tbody tr th {\n",
       "        vertical-align: top;\n",
       "    }\n",
       "\n",
       "    .dataframe thead th {\n",
       "        text-align: right;\n",
       "    }\n",
       "</style>\n",
       "<table border=\"1\" class=\"dataframe\">\n",
       "  <thead>\n",
       "    <tr style=\"text-align: right;\">\n",
       "      <th></th>\n",
       "      <th>det</th>\n",
       "      <th>er</th>\n",
       "      <th>simpelthen</th>\n",
       "      <th>at</th>\n",
       "      <th>den</th>\n",
       "      <th>lille</th>\n",
       "      <th>laver</th>\n",
       "      <th>noget</th>\n",
       "      <th>og</th>\n",
       "      <th>s</th>\n",
       "      <th>...</th>\n",
       "      <th>spids</th>\n",
       "      <th>omsorg</th>\n",
       "      <th>blokere</th>\n",
       "      <th>billedet</th>\n",
       "      <th>sort</th>\n",
       "      <th>hvirvler</th>\n",
       "      <th>foroven</th>\n",
       "      <th>glider</th>\n",
       "      <th>oppe</th>\n",
       "      <th>label</th>\n",
       "    </tr>\n",
       "  </thead>\n",
       "  <tbody>\n",
       "    <tr>\n",
       "      <th>104</th>\n",
       "      <td>5.0</td>\n",
       "      <td>3.0</td>\n",
       "      <td>0.0</td>\n",
       "      <td>3.0</td>\n",
       "      <td>18.0</td>\n",
       "      <td>0.0</td>\n",
       "      <td>0.0</td>\n",
       "      <td>2.0</td>\n",
       "      <td>14.0</td>\n",
       "      <td>9.0</td>\n",
       "      <td>...</td>\n",
       "      <td>0.0</td>\n",
       "      <td>0.0</td>\n",
       "      <td>0.0</td>\n",
       "      <td>0.0</td>\n",
       "      <td>0.0</td>\n",
       "      <td>0.0</td>\n",
       "      <td>0.0</td>\n",
       "      <td>0.0</td>\n",
       "      <td>0.0</td>\n",
       "      <td>Patients_Chronic</td>\n",
       "    </tr>\n",
       "    <tr>\n",
       "      <th>105</th>\n",
       "      <td>1.0</td>\n",
       "      <td>2.0</td>\n",
       "      <td>0.0</td>\n",
       "      <td>2.0</td>\n",
       "      <td>12.0</td>\n",
       "      <td>2.0</td>\n",
       "      <td>0.0</td>\n",
       "      <td>0.0</td>\n",
       "      <td>1.0</td>\n",
       "      <td>1.0</td>\n",
       "      <td>...</td>\n",
       "      <td>0.0</td>\n",
       "      <td>0.0</td>\n",
       "      <td>0.0</td>\n",
       "      <td>1.0</td>\n",
       "      <td>0.0</td>\n",
       "      <td>0.0</td>\n",
       "      <td>0.0</td>\n",
       "      <td>0.0</td>\n",
       "      <td>0.0</td>\n",
       "      <td>Patients_Chronic</td>\n",
       "    </tr>\n",
       "    <tr>\n",
       "      <th>106</th>\n",
       "      <td>1.0</td>\n",
       "      <td>1.0</td>\n",
       "      <td>0.0</td>\n",
       "      <td>9.0</td>\n",
       "      <td>11.0</td>\n",
       "      <td>0.0</td>\n",
       "      <td>0.0</td>\n",
       "      <td>2.0</td>\n",
       "      <td>2.0</td>\n",
       "      <td>3.0</td>\n",
       "      <td>...</td>\n",
       "      <td>0.0</td>\n",
       "      <td>0.0</td>\n",
       "      <td>0.0</td>\n",
       "      <td>0.0</td>\n",
       "      <td>0.0</td>\n",
       "      <td>0.0</td>\n",
       "      <td>0.0</td>\n",
       "      <td>0.0</td>\n",
       "      <td>0.0</td>\n",
       "      <td>Patients_Chronic</td>\n",
       "    </tr>\n",
       "    <tr>\n",
       "      <th>107</th>\n",
       "      <td>7.0</td>\n",
       "      <td>6.0</td>\n",
       "      <td>0.0</td>\n",
       "      <td>5.0</td>\n",
       "      <td>44.0</td>\n",
       "      <td>1.0</td>\n",
       "      <td>0.0</td>\n",
       "      <td>0.0</td>\n",
       "      <td>38.0</td>\n",
       "      <td>23.0</td>\n",
       "      <td>...</td>\n",
       "      <td>0.0</td>\n",
       "      <td>0.0</td>\n",
       "      <td>0.0</td>\n",
       "      <td>0.0</td>\n",
       "      <td>1.0</td>\n",
       "      <td>0.0</td>\n",
       "      <td>0.0</td>\n",
       "      <td>1.0</td>\n",
       "      <td>0.0</td>\n",
       "      <td>Patients_Chronic</td>\n",
       "    </tr>\n",
       "    <tr>\n",
       "      <th>108</th>\n",
       "      <td>7.0</td>\n",
       "      <td>3.0</td>\n",
       "      <td>0.0</td>\n",
       "      <td>8.0</td>\n",
       "      <td>12.0</td>\n",
       "      <td>0.0</td>\n",
       "      <td>0.0</td>\n",
       "      <td>1.0</td>\n",
       "      <td>9.0</td>\n",
       "      <td>8.0</td>\n",
       "      <td>...</td>\n",
       "      <td>0.0</td>\n",
       "      <td>0.0</td>\n",
       "      <td>0.0</td>\n",
       "      <td>0.0</td>\n",
       "      <td>0.0</td>\n",
       "      <td>0.0</td>\n",
       "      <td>0.0</td>\n",
       "      <td>0.0</td>\n",
       "      <td>2.0</td>\n",
       "      <td>Patients_Chronic</td>\n",
       "    </tr>\n",
       "  </tbody>\n",
       "</table>\n",
       "<p>5 rows × 870 columns</p>\n",
       "</div>"
      ],
      "text/plain": [
       "     det   er  simpelthen   at   den  lille  laver  noget    og     s  \\\n",
       "104  5.0  3.0         0.0  3.0  18.0    0.0    0.0    2.0  14.0   9.0   \n",
       "105  1.0  2.0         0.0  2.0  12.0    2.0    0.0    0.0   1.0   1.0   \n",
       "106  1.0  1.0         0.0  9.0  11.0    0.0    0.0    2.0   2.0   3.0   \n",
       "107  7.0  6.0         0.0  5.0  44.0    1.0    0.0    0.0  38.0  23.0   \n",
       "108  7.0  3.0         0.0  8.0  12.0    0.0    0.0    1.0   9.0   8.0   \n",
       "\n",
       "           ...         spids  omsorg  blokere  billedet  sort  hvirvler  \\\n",
       "104        ...           0.0     0.0      0.0       0.0   0.0       0.0   \n",
       "105        ...           0.0     0.0      0.0       1.0   0.0       0.0   \n",
       "106        ...           0.0     0.0      0.0       0.0   0.0       0.0   \n",
       "107        ...           0.0     0.0      0.0       0.0   1.0       0.0   \n",
       "108        ...           0.0     0.0      0.0       0.0   0.0       0.0   \n",
       "\n",
       "     foroven  glider  oppe             label  \n",
       "104      0.0     0.0   0.0  Patients_Chronic  \n",
       "105      0.0     0.0   0.0  Patients_Chronic  \n",
       "106      0.0     0.0   0.0  Patients_Chronic  \n",
       "107      0.0     1.0   0.0  Patients_Chronic  \n",
       "108      0.0     0.0   2.0  Patients_Chronic  \n",
       "\n",
       "[5 rows x 870 columns]"
      ]
     },
     "execution_count": 359,
     "metadata": {},
     "output_type": "execute_result"
    }
   ],
   "source": [
    "data_d.tail()"
   ]
  },
  {
   "cell_type": "code",
   "execution_count": 361,
   "metadata": {
    "collapsed": false
   },
   "outputs": [
    {
     "data": {
      "text/plain": [
       "(109, 870)"
      ]
     },
     "execution_count": 361,
     "metadata": {},
     "output_type": "execute_result"
    }
   ],
   "source": [
    "data_d.shape"
   ]
  },
  {
   "cell_type": "code",
   "execution_count": 363,
   "metadata": {
    "collapsed": false
   },
   "outputs": [
    {
     "name": "stdout",
     "output_type": "stream",
     "text": [
      "<class 'pandas.core.frame.DataFrame'>\n",
      "Int64Index: 109 entries, 0 to 108\n",
      "Columns: 870 entries, det to label\n",
      "dtypes: float64(869), object(1)\n",
      "memory usage: 741.7+ KB\n"
     ]
    }
   ],
   "source": [
    "data_d.info()"
   ]
  },
  {
   "cell_type": "code",
   "execution_count": 364,
   "metadata": {
    "collapsed": false
   },
   "outputs": [
    {
     "data": {
      "text/html": [
       "<div>\n",
       "<style scoped>\n",
       "    .dataframe tbody tr th:only-of-type {\n",
       "        vertical-align: middle;\n",
       "    }\n",
       "\n",
       "    .dataframe tbody tr th {\n",
       "        vertical-align: top;\n",
       "    }\n",
       "\n",
       "    .dataframe thead th {\n",
       "        text-align: right;\n",
       "    }\n",
       "</style>\n",
       "<table border=\"1\" class=\"dataframe\">\n",
       "  <thead>\n",
       "    <tr style=\"text-align: right;\">\n",
       "      <th></th>\n",
       "      <th>det</th>\n",
       "      <th>er</th>\n",
       "      <th>simpelthen</th>\n",
       "      <th>at</th>\n",
       "      <th>den</th>\n",
       "      <th>lille</th>\n",
       "      <th>laver</th>\n",
       "      <th>noget</th>\n",
       "      <th>og</th>\n",
       "      <th>s</th>\n",
       "      <th>...</th>\n",
       "      <th>situation</th>\n",
       "      <th>spids</th>\n",
       "      <th>omsorg</th>\n",
       "      <th>blokere</th>\n",
       "      <th>billedet</th>\n",
       "      <th>sort</th>\n",
       "      <th>hvirvler</th>\n",
       "      <th>foroven</th>\n",
       "      <th>glider</th>\n",
       "      <th>oppe</th>\n",
       "    </tr>\n",
       "  </thead>\n",
       "  <tbody>\n",
       "    <tr>\n",
       "      <th>count</th>\n",
       "      <td>109.000000</td>\n",
       "      <td>109.000000</td>\n",
       "      <td>109.000000</td>\n",
       "      <td>109.000000</td>\n",
       "      <td>109.000000</td>\n",
       "      <td>109.000000</td>\n",
       "      <td>109.000000</td>\n",
       "      <td>109.000000</td>\n",
       "      <td>109.000000</td>\n",
       "      <td>109.000000</td>\n",
       "      <td>...</td>\n",
       "      <td>109.000000</td>\n",
       "      <td>109.00000</td>\n",
       "      <td>109.000000</td>\n",
       "      <td>109.000000</td>\n",
       "      <td>109.000000</td>\n",
       "      <td>109.000000</td>\n",
       "      <td>109.000000</td>\n",
       "      <td>109.000000</td>\n",
       "      <td>109.000000</td>\n",
       "      <td>109.000000</td>\n",
       "    </tr>\n",
       "    <tr>\n",
       "      <th>mean</th>\n",
       "      <td>9.146789</td>\n",
       "      <td>6.376147</td>\n",
       "      <td>0.064220</td>\n",
       "      <td>7.009174</td>\n",
       "      <td>23.669725</td>\n",
       "      <td>3.834862</td>\n",
       "      <td>0.155963</td>\n",
       "      <td>1.880734</td>\n",
       "      <td>14.110092</td>\n",
       "      <td>11.155963</td>\n",
       "      <td>...</td>\n",
       "      <td>0.018349</td>\n",
       "      <td>0.06422</td>\n",
       "      <td>0.018349</td>\n",
       "      <td>0.018349</td>\n",
       "      <td>0.036697</td>\n",
       "      <td>0.018349</td>\n",
       "      <td>0.036697</td>\n",
       "      <td>0.018349</td>\n",
       "      <td>0.018349</td>\n",
       "      <td>0.027523</td>\n",
       "    </tr>\n",
       "    <tr>\n",
       "      <th>std</th>\n",
       "      <td>6.790279</td>\n",
       "      <td>6.490433</td>\n",
       "      <td>0.367051</td>\n",
       "      <td>5.021243</td>\n",
       "      <td>18.089313</td>\n",
       "      <td>4.005815</td>\n",
       "      <td>0.512335</td>\n",
       "      <td>2.641285</td>\n",
       "      <td>12.267346</td>\n",
       "      <td>13.061234</td>\n",
       "      <td>...</td>\n",
       "      <td>0.134829</td>\n",
       "      <td>0.47678</td>\n",
       "      <td>0.134829</td>\n",
       "      <td>0.134829</td>\n",
       "      <td>0.232801</td>\n",
       "      <td>0.134829</td>\n",
       "      <td>0.302049</td>\n",
       "      <td>0.134829</td>\n",
       "      <td>0.134829</td>\n",
       "      <td>0.213382</td>\n",
       "    </tr>\n",
       "    <tr>\n",
       "      <th>min</th>\n",
       "      <td>0.000000</td>\n",
       "      <td>0.000000</td>\n",
       "      <td>0.000000</td>\n",
       "      <td>0.000000</td>\n",
       "      <td>0.000000</td>\n",
       "      <td>0.000000</td>\n",
       "      <td>0.000000</td>\n",
       "      <td>0.000000</td>\n",
       "      <td>0.000000</td>\n",
       "      <td>0.000000</td>\n",
       "      <td>...</td>\n",
       "      <td>0.000000</td>\n",
       "      <td>0.00000</td>\n",
       "      <td>0.000000</td>\n",
       "      <td>0.000000</td>\n",
       "      <td>0.000000</td>\n",
       "      <td>0.000000</td>\n",
       "      <td>0.000000</td>\n",
       "      <td>0.000000</td>\n",
       "      <td>0.000000</td>\n",
       "      <td>0.000000</td>\n",
       "    </tr>\n",
       "    <tr>\n",
       "      <th>25%</th>\n",
       "      <td>5.000000</td>\n",
       "      <td>2.000000</td>\n",
       "      <td>0.000000</td>\n",
       "      <td>3.000000</td>\n",
       "      <td>12.000000</td>\n",
       "      <td>1.000000</td>\n",
       "      <td>0.000000</td>\n",
       "      <td>0.000000</td>\n",
       "      <td>6.000000</td>\n",
       "      <td>4.000000</td>\n",
       "      <td>...</td>\n",
       "      <td>0.000000</td>\n",
       "      <td>0.00000</td>\n",
       "      <td>0.000000</td>\n",
       "      <td>0.000000</td>\n",
       "      <td>0.000000</td>\n",
       "      <td>0.000000</td>\n",
       "      <td>0.000000</td>\n",
       "      <td>0.000000</td>\n",
       "      <td>0.000000</td>\n",
       "      <td>0.000000</td>\n",
       "    </tr>\n",
       "    <tr>\n",
       "      <th>50%</th>\n",
       "      <td>7.000000</td>\n",
       "      <td>4.000000</td>\n",
       "      <td>0.000000</td>\n",
       "      <td>6.000000</td>\n",
       "      <td>21.000000</td>\n",
       "      <td>2.000000</td>\n",
       "      <td>0.000000</td>\n",
       "      <td>1.000000</td>\n",
       "      <td>11.000000</td>\n",
       "      <td>8.000000</td>\n",
       "      <td>...</td>\n",
       "      <td>0.000000</td>\n",
       "      <td>0.00000</td>\n",
       "      <td>0.000000</td>\n",
       "      <td>0.000000</td>\n",
       "      <td>0.000000</td>\n",
       "      <td>0.000000</td>\n",
       "      <td>0.000000</td>\n",
       "      <td>0.000000</td>\n",
       "      <td>0.000000</td>\n",
       "      <td>0.000000</td>\n",
       "    </tr>\n",
       "    <tr>\n",
       "      <th>75%</th>\n",
       "      <td>12.000000</td>\n",
       "      <td>8.000000</td>\n",
       "      <td>0.000000</td>\n",
       "      <td>10.000000</td>\n",
       "      <td>30.000000</td>\n",
       "      <td>6.000000</td>\n",
       "      <td>0.000000</td>\n",
       "      <td>2.000000</td>\n",
       "      <td>18.000000</td>\n",
       "      <td>14.000000</td>\n",
       "      <td>...</td>\n",
       "      <td>0.000000</td>\n",
       "      <td>0.00000</td>\n",
       "      <td>0.000000</td>\n",
       "      <td>0.000000</td>\n",
       "      <td>0.000000</td>\n",
       "      <td>0.000000</td>\n",
       "      <td>0.000000</td>\n",
       "      <td>0.000000</td>\n",
       "      <td>0.000000</td>\n",
       "      <td>0.000000</td>\n",
       "    </tr>\n",
       "    <tr>\n",
       "      <th>max</th>\n",
       "      <td>33.000000</td>\n",
       "      <td>33.000000</td>\n",
       "      <td>3.000000</td>\n",
       "      <td>24.000000</td>\n",
       "      <td>95.000000</td>\n",
       "      <td>14.000000</td>\n",
       "      <td>3.000000</td>\n",
       "      <td>11.000000</td>\n",
       "      <td>64.000000</td>\n",
       "      <td>78.000000</td>\n",
       "      <td>...</td>\n",
       "      <td>1.000000</td>\n",
       "      <td>4.00000</td>\n",
       "      <td>1.000000</td>\n",
       "      <td>1.000000</td>\n",
       "      <td>2.000000</td>\n",
       "      <td>1.000000</td>\n",
       "      <td>3.000000</td>\n",
       "      <td>1.000000</td>\n",
       "      <td>1.000000</td>\n",
       "      <td>2.000000</td>\n",
       "    </tr>\n",
       "  </tbody>\n",
       "</table>\n",
       "<p>8 rows × 869 columns</p>\n",
       "</div>"
      ],
      "text/plain": [
       "              det          er  simpelthen          at         den       lille  \\\n",
       "count  109.000000  109.000000  109.000000  109.000000  109.000000  109.000000   \n",
       "mean     9.146789    6.376147    0.064220    7.009174   23.669725    3.834862   \n",
       "std      6.790279    6.490433    0.367051    5.021243   18.089313    4.005815   \n",
       "min      0.000000    0.000000    0.000000    0.000000    0.000000    0.000000   \n",
       "25%      5.000000    2.000000    0.000000    3.000000   12.000000    1.000000   \n",
       "50%      7.000000    4.000000    0.000000    6.000000   21.000000    2.000000   \n",
       "75%     12.000000    8.000000    0.000000   10.000000   30.000000    6.000000   \n",
       "max     33.000000   33.000000    3.000000   24.000000   95.000000   14.000000   \n",
       "\n",
       "            laver       noget          og           s     ...       situation  \\\n",
       "count  109.000000  109.000000  109.000000  109.000000     ...      109.000000   \n",
       "mean     0.155963    1.880734   14.110092   11.155963     ...        0.018349   \n",
       "std      0.512335    2.641285   12.267346   13.061234     ...        0.134829   \n",
       "min      0.000000    0.000000    0.000000    0.000000     ...        0.000000   \n",
       "25%      0.000000    0.000000    6.000000    4.000000     ...        0.000000   \n",
       "50%      0.000000    1.000000   11.000000    8.000000     ...        0.000000   \n",
       "75%      0.000000    2.000000   18.000000   14.000000     ...        0.000000   \n",
       "max      3.000000   11.000000   64.000000   78.000000     ...        1.000000   \n",
       "\n",
       "           spids      omsorg     blokere    billedet        sort    hvirvler  \\\n",
       "count  109.00000  109.000000  109.000000  109.000000  109.000000  109.000000   \n",
       "mean     0.06422    0.018349    0.018349    0.036697    0.018349    0.036697   \n",
       "std      0.47678    0.134829    0.134829    0.232801    0.134829    0.302049   \n",
       "min      0.00000    0.000000    0.000000    0.000000    0.000000    0.000000   \n",
       "25%      0.00000    0.000000    0.000000    0.000000    0.000000    0.000000   \n",
       "50%      0.00000    0.000000    0.000000    0.000000    0.000000    0.000000   \n",
       "75%      0.00000    0.000000    0.000000    0.000000    0.000000    0.000000   \n",
       "max      4.00000    1.000000    1.000000    2.000000    1.000000    3.000000   \n",
       "\n",
       "          foroven      glider        oppe  \n",
       "count  109.000000  109.000000  109.000000  \n",
       "mean     0.018349    0.018349    0.027523  \n",
       "std      0.134829    0.134829    0.213382  \n",
       "min      0.000000    0.000000    0.000000  \n",
       "25%      0.000000    0.000000    0.000000  \n",
       "50%      0.000000    0.000000    0.000000  \n",
       "75%      0.000000    0.000000    0.000000  \n",
       "max      1.000000    1.000000    2.000000  \n",
       "\n",
       "[8 rows x 869 columns]"
      ]
     },
     "execution_count": 364,
     "metadata": {},
     "output_type": "execute_result"
    }
   ],
   "source": [
    "data_d.describe()"
   ]
  },
  {
   "cell_type": "code",
   "execution_count": 83,
   "metadata": {
    "collapsed": false
   },
   "outputs": [
    {
     "data": {
      "text/plain": [
       "Controls              42\n",
       "Patients_FirstTime    40\n",
       "Patients_Chronic      27\n",
       "Name: label, dtype: int64"
      ]
     },
     "execution_count": 83,
     "metadata": {},
     "output_type": "execute_result"
    }
   ],
   "source": [
    "pd.Series.value_counts(data_d[\"label\"])\n",
    "\n"
   ]
  },
  {
   "cell_type": "markdown",
   "metadata": {},
   "source": [
    "*Take notes here:*\n",
    "\n",
    "Shape = 109 (rows), 870 (columns)\n",
    "Participants = 109\n",
    "Variable number = 2\n",
    "Words = 869 (number of different words)\n",
    "Diagnosis = Control/Patient_FirstTime/Patients_Chronic\n",
    "Number of Patient_FirstTime = 40\n",
    "NUmber of Patients_Chronic = 27\n",
    "Number of controls = 42"
   ]
  },
  {
   "cell_type": "markdown",
   "metadata": {},
   "source": [
    "## 5. Matplotlib and seaborn intro\n",
    "\n",
    "This is not a data visualisation class; and anyways I am sure you are all expert plotters in R by now. If you want to keep plotting in R, be my guest; it even <a href=\"https://www.datacamp.com/community/blog/jupyter-notebook-r\"> integrates with the jupyter environment as well!</a>. Sometimes it can be handy thought to have a few python plotting skills, if you just quickly want to see what's going on in your data, without switching the environment. I also prefer the matplotlib/seaborn styles; but that's personal preference. You can learn to do <a href=\"https://matplotlib.org/resources/index.html\">everything you want and more</a>, for example how to:\n",
    "- put multiple plots next to each other and share the axes\n",
    "- change font sizes and styles\n",
    "- change all the labels\n",
    "- set different sub-tiltles for each plot and a super-title for the entire figure\n",
    "- change the size of the figure\n",
    "- save the figure (as png, pdf, ...)\n",
    "- etc.\n",
    "\n",
    "These are things I frequently look up, too. Here, we'll just cover some basics to get you started.\n",
    "\n",
    "First, let's just plot the usage of a single word, \"jeg\", by schizophrenic patients and controls:"
   ]
  },
  {
   "cell_type": "code",
   "execution_count": 84,
   "metadata": {
    "collapsed": false
   },
   "outputs": [
    {
     "name": "stderr",
     "output_type": "stream",
     "text": [
      "/Applications/anaconda/envs/nlp_workshop/lib/python3.7/site-packages/scipy/stats/stats.py:1713: FutureWarning: Using a non-tuple sequence for multidimensional indexing is deprecated; use `arr[tuple(seq)]` instead of `arr[seq]`. In the future this will be interpreted as an array index, `arr[np.array(seq)]`, which will result either in an error or a different result.\n",
      "  return np.add.reduce(sorted[indexer] * weights, axis=axis) / sumval\n"
     ]
    },
    {
     "data": {
      "image/png": "[encoded data removed]",
      "text/plain": [
       "<Figure size 432x288 with 1 Axes>"
      ]
     },
     "metadata": {
      "needs_background": "light"
     },
     "output_type": "display_data"
    }
   ],
   "source": [
    "#barplot\n",
    "f = sns.barplot(data_s[\"label\"],data_s[\"jeg\"])\n",
    "plt.show()"
   ]
  },
  {
   "cell_type": "markdown",
   "metadata": {},
   "source": [
    "Let's make that a little better. We can add a title and rename the axes:"
   ]
  },
  {
   "cell_type": "code",
   "execution_count": 85,
   "metadata": {
    "collapsed": false
   },
   "outputs": [
    {
     "name": "stderr",
     "output_type": "stream",
     "text": [
      "/Applications/anaconda/envs/nlp_workshop/lib/python3.7/site-packages/scipy/stats/stats.py:1713: FutureWarning: Using a non-tuple sequence for multidimensional indexing is deprecated; use `arr[tuple(seq)]` instead of `arr[seq]`. In the future this will be interpreted as an array index, `arr[np.array(seq)]`, which will result either in an error or a different result.\n",
      "  return np.add.reduce(sorted[indexer] * weights, axis=axis) / sumval\n"
     ]
    },
    {
     "data": {
      "image/png": "[encoded data removed]",
      "text/plain": [
       "<Figure size 432x288 with 1 Axes>"
      ]
     },
     "metadata": {
      "needs_background": "light"
     },
     "output_type": "display_data"
    }
   ],
   "source": [
    "#barplot\n",
    "f = sns.barplot(data_s[\"label\"],data_s[\"jeg\"])\n",
    "plt.xlabel(\"\")\n",
    "plt.xticks(np.arange(2),[\"non-schizophrenic\",\"schizophrenic\"])\n",
    "plt.ylabel(\"Mean number of occurrences\")\n",
    "plt.title(\"Occurence of the word 'jeg' in schizophrenic patients and matched controls\")\n",
    "plt.show()"
   ]
  },
  {
   "cell_type": "markdown",
   "metadata": {},
   "source": [
    "Try it out for yourself. Choose another word."
   ]
  },
  {
   "cell_type": "code",
   "execution_count": 368,
   "metadata": {
    "collapsed": false
   },
   "outputs": [
    {
     "name": "stderr",
     "output_type": "stream",
     "text": [
      "/Applications/anaconda/envs/nlp_workshop/lib/python3.7/site-packages/scipy/stats/stats.py:1713: FutureWarning: Using a non-tuple sequence for multidimensional indexing is deprecated; use `arr[tuple(seq)]` instead of `arr[seq]`. In the future this will be interpreted as an array index, `arr[np.array(seq)]`, which will result either in an error or a different result.\n",
      "  return np.add.reduce(sorted[indexer] * weights, axis=axis) / sumval\n"
     ]
    },
    {
     "data": {
      "image/png": "[encoded data removed]",
      "text/plain": [
       "<Figure size 432x288 with 1 Axes>"
      ]
     },
     "metadata": {
      "needs_background": "light"
     },
     "output_type": "display_data"
    }
   ],
   "source": [
    "#Code here.\n",
    "\n",
    "#barplot of the word trekanter\n",
    "t = sns.barplot(data_s[\"label\"],data_s[\"trekanter\"])\n",
    "plt.xlabel(\"\")\n",
    "plt.xticks(np.arange(2),[\"non-schizophrenic\",\"schizophrenic\"])\n",
    "plt.ylabel(\"Mean number of occurrences\")\n",
    "plt.title(\"Occurence of the word 'trekanter' in schizophrenic patients and matched controls\")\n",
    "plt.show()"
   ]
  },
  {
   "cell_type": "markdown",
   "metadata": {},
   "source": [
    "Not try using the <a href=\"https://seaborn.pydata.org/generated/seaborn.distplot.html\">sns.distplot</a> funcion to make a histogram instead:"
   ]
  },
  {
   "cell_type": "code",
   "execution_count": 94,
   "metadata": {
    "collapsed": false
   },
   "outputs": [
    {
     "name": "stderr",
     "output_type": "stream",
     "text": [
      "/Applications/anaconda/envs/nlp_workshop/lib/python3.7/site-packages/scipy/stats/stats.py:1713: FutureWarning: Using a non-tuple sequence for multidimensional indexing is deprecated; use `arr[tuple(seq)]` instead of `arr[seq]`. In the future this will be interpreted as an array index, `arr[np.array(seq)]`, which will result either in an error or a different result.\n",
      "  return np.add.reduce(sorted[indexer] * weights, axis=axis) / sumval\n"
     ]
    },
    {
     "data": {
      "image/png": "[encoded data removed]",
      "text/plain": [
       "<Figure size 432x288 with 1 Axes>"
      ]
     },
     "metadata": {
      "needs_background": "light"
     },
     "output_type": "display_data"
    },
    {
     "data": {
      "text/plain": [
       "<function matplotlib.pyplot.show(*args, **kw)>"
      ]
     },
     "execution_count": 94,
     "metadata": {},
     "output_type": "execute_result"
    },
    {
     "data": {
      "image/png": "[encoded data removed]",
      "text/plain": [
       "<Figure size 432x288 with 1 Axes>"
      ]
     },
     "metadata": {
      "needs_background": "light"
     },
     "output_type": "display_data"
    }
   ],
   "source": [
    "#Code here.\n",
    "\n",
    "#histogram plot of the word trekanter\n",
    "\n",
    "h = sns.distplot(data_s[\"trekanter\"])\n",
    "plt.show()\n",
    "\n",
    "\n",
    "sns.distplot(data_s.loc[data_s['label'] == \"Controls\", \"trekanter\"], rug = True)\n",
    "sns.distplot(data_s.loc[data_s['label'] == \"Patients\", \"trekanter\"], rug = True)\n",
    "\n",
    "plt.show\n",
    "\n"
   ]
  },
  {
   "cell_type": "markdown",
   "metadata": {},
   "source": [
    "*Extra: If you want, figure out how to get seperate histograms for Patrients and Controls. Hint: you can use boolean logic on the dataset. If you call ```sns.distplot``` twice (on subsequent lines, using different parts of the dataset), maplotplib will automatically choose a new colour for the second histogram and overlay them in the same plot. Also try playing a bit with the parameters of ```distplot``` (check the documentation above), to see which representation you like best (e.g., try setting ```kde=False``` or ```rug=True```).*"
   ]
  },
  {
   "cell_type": "markdown",
   "metadata": {},
   "source": [
    "## 6. Zipf's Law\n",
    "\n",
    "Let's start by looking at Zipf's law: The law defining the distribution typical of all language data, across genres and levels of linguistic description (phonemes, graphemes, words, syntax, ...). Zipf's law should also apply to the distribution of words in our text corpus. To test this, let's \n",
    "1. Make a copy of only the features (=word, not the label), using the <a href=\"https://pandas.pydata.org/pandas-docs/stable/generated/pandas.DataFrame.drop.html\">pd.DataFrame.drop()</a> method on the data. Save this in a new dataframe.\n",
    "2. Get the total number of occurrences of each word in the new (features only) dataframe, using the <a href=\"https://pandas.pydata.org/pandas-docs/stable/generated/pandas.DataFrame.sum.html\">pd.DataFrame.sum()</a> method. This will return a pandas Series. Save it in a new variable (```total_word_counts```).\n",
    "3. Sort the ```total_word_counts``` Series in descending order (hint: use ```ascending=False```), using the <a href=\"https://pandas.pydata.org/pandas-docs/stable/generated/pandas.Series.sort_values.html\">pd.Series.sort_values()</a> method.\n",
    "4. Now you can plot the values, using ```plt.bar()``` (<a href=\"https://matplotlib.org/api/_as_gen/matplotlib.pyplot.bar.html\">documentation</a>). This takes a list of scalars (x) and a height (y) for the bars. Use an ```np.arange(len(total_word_counts))``` as x -- this will just give each word its rank, i.e. the most frequent word has rank 0 and the least frequent word has the rank corresponding to the length of the vocabulary. "
   ]
  },
  {
   "cell_type": "code",
   "execution_count": 97,
   "metadata": {
    "collapsed": false
   },
   "outputs": [
    {
     "data": {
      "text/plain": [
       "<BarContainer object of 1072 artists>"
      ]
     },
     "execution_count": 97,
     "metadata": {},
     "output_type": "execute_result"
    },
    {
     "data": {
      "image/png": "[encoded data removed]",
      "text/plain": [
       "<Figure size 432x288 with 1 Axes>"
      ]
     },
     "metadata": {
      "needs_background": "light"
     },
     "output_type": "display_data"
    }
   ],
   "source": [
    "#Code here.\n",
    "df_zipf = pd.DataFrame(data=data_s) #make copy of dataset\n",
    "\n",
    "df_zipf = df_zipf.drop(['label'], axis=1) #remove label column\n",
    "\n",
    "\n",
    "total_word_count = df_zipf.sum() #create a new variable\n",
    "\n",
    "type(total_word_count) #it's a pandas series\n",
    "\n",
    "\n",
    "total_word_count = total_word_count.sort_values(ascending = False) \n",
    "\n",
    "\n",
    "freq = np.arange(len(total_word_count)) \n",
    "\n",
    "plt.bar(freq, total_word_count)\n",
    "\n"
   ]
  },
  {
   "cell_type": "markdown",
   "metadata": {},
   "source": [
    "Maybe it's a bit hard to see, since the bars are so tiny? Try displaying only the first 100 most frequent words (*hint: you can subset the Series with [:100], like a list*). Can you recognize the typical Zipfian pattern?"
   ]
  },
  {
   "cell_type": "code",
   "execution_count": 98,
   "metadata": {
    "collapsed": false,
    "scrolled": true
   },
   "outputs": [
    {
     "data": {
      "text/plain": [
       "<BarContainer object of 100 artists>"
      ]
     },
     "execution_count": 98,
     "metadata": {},
     "output_type": "execute_result"
    },
    {
     "data": {
      "image/png": "[encoded data removed]",
      "text/plain": [
       "<Figure size 432x288 with 1 Axes>"
      ]
     },
     "metadata": {
      "needs_background": "light"
     },
     "output_type": "display_data"
    }
   ],
   "source": [
    "#Code here. \n",
    "\n",
    "total_word_count_100 = total_word_count.iloc[:100]\n",
    "\n",
    "freq_100 = np.arange(len(total_word_count_100)) \n",
    "\n",
    "total_word_count_100 = total_word_count_100.sort_values(ascending = False) \n",
    "\n",
    "\n",
    "plt.bar(freq_100, total_word_count_100)\n",
    "\n",
    "#df.iloc[3:5]\n"
   ]
  },
  {
   "cell_type": "markdown",
   "metadata": {},
   "source": [
    "## 7. Variable relationships\n",
    "\n",
    "Right. So far, our observations have been pretty general: We know what kind of data we have, how many observations and features, and how those features are generally distributed. We have also compared the use of specific words in the two groups. But what about the *relationships* between words?\n",
    "\n",
    "In our Naive Bayes model (more on that in Lab2), we make the assumption that features are conditionally independent of one another. Let's get a first impression about how realistic that assumption is. Let's start (arbitrarily) with the first 5 words in our dataset, and see how correlated they are. <a href=\"https://seaborn.pydata.org/generated/seaborn.pairplot.html\">```sns.pairplot```</a> conveniently makes plots for all combinations of these 10 variables. Include the line of best fit (for estimating the correlation) by specifying the argument ```kind='reg'```.\n",
    "\n",
    "*Hint: ```data_s.iloc[:,:5]``` will give you the same dataframe, but using only the fist 5 veriables.*"
   ]
  },
  {
   "cell_type": "code",
   "execution_count": 99,
   "metadata": {
    "collapsed": false,
    "scrolled": true
   },
   "outputs": [
    {
     "name": "stderr",
     "output_type": "stream",
     "text": [
      "/Applications/anaconda/envs/nlp_workshop/lib/python3.7/site-packages/scipy/stats/stats.py:1713: FutureWarning: Using a non-tuple sequence for multidimensional indexing is deprecated; use `arr[tuple(seq)]` instead of `arr[seq]`. In the future this will be interpreted as an array index, `arr[np.array(seq)]`, which will result either in an error or a different result.\n",
      "  return np.add.reduce(sorted[indexer] * weights, axis=axis) / sumval\n"
     ]
    },
    {
     "data": {
      "image/png": "[encoded data removed]",
      "text/plain": [
       "<Figure size 900x900 with 30 Axes>"
      ]
     },
     "metadata": {
      "needs_background": "light"
     },
     "output_type": "display_data"
    }
   ],
   "source": [
    "#Code here.\n",
    "\n",
    "data_s_5 = data_s.iloc[:, :5] #create datafram with only the first five words\n",
    "data_s_5\n",
    "\n",
    "correlation = sns.pairplot(data_s_5, kind = 'reg')\n",
    "\n",
    "plt.show(correlation)\n",
    "\n"
   ]
  },
  {
   "cell_type": "markdown",
   "metadata": {},
   "source": [
    "Are these variables uncorrelated? Which ones are, which ones aren't? Bonus: Do you think the ones that are correlated could be <b>conditionally</b> independent, given the class (patient/control)? Why/why not? (You don't have to test this, just use your intuition and understanding of the concept and of language.)\n",
    "\n",
    "Optionally: pick a few other words (maybe that you think could be correlated) and examine their relationship, using ```sns.pairplot``` and <a href=\"https://seaborn.pydata.org/generated/seaborn.regplot.html\">```sns.regplot```</a>."
   ]
  },
  {
   "cell_type": "markdown",
   "metadata": {},
   "source": [
    "*Take notes here:*\n",
    "\n",
    "Items that are highly correlated: de x der, de x sådan, der x sådan "
   ]
  },
  {
   "cell_type": "code",
   "execution_count": null,
   "metadata": {
    "collapsed": true
   },
   "outputs": [],
   "source": [
    "#Code here."
   ]
  },
  {
   "cell_type": "markdown",
   "metadata": {},
   "source": [
    "## 8. Exploring distributions and relationships in depressed participants [A]\n",
    "\n",
    "If you have time, you may want to explore the depression dataset in a similar way as we have done before. Think about Zipf's law, variable relationships. Maybe compare a few particular words that you think could be used more or less frequently by depressed patients, by making a barplot."
   ]
  },
  {
   "cell_type": "code",
   "execution_count": null,
   "metadata": {
    "collapsed": true
   },
   "outputs": [],
   "source": []
  }
 ],
 "metadata": {
  "anaconda-cloud": {},
  "kernelspec": {
   "display_name": "Python [conda env:nlp_workshop]",
   "language": "python",
   "name": "conda-env-nlp_workshop-py"
  },
  "language_info": {
   "codemirror_mode": {
    "name": "ipython",
    "version": 3
   },
   "file_extension": ".py",
   "mimetype": "text/x-python",
   "name": "python",
   "nbconvert_exporter": "python",
   "pygments_lexer": "ipython3",
   "version": "3.7.0"
  }
 },
 "nbformat": 4,
 "nbformat_minor": 2
}
